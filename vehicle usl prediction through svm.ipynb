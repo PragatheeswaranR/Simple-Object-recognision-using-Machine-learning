{
 "cells": [
  {
   "cell_type": "code",
   "execution_count": 73,
   "metadata": {},
   "outputs": [],
   "source": [
    "import pandas as pd\n",
    "import numpy as np\n",
    "import matplotlib.pyplot as plt\n",
    "import seaborn as sns\n",
    "import warnings \n",
    "warnings.filterwarnings('ignore')\n",
    "from sklearn.metrics import confusion_matrix,accuracy_score, classification_report\n",
    "%matplotlib inline"
   ]
  },
  {
   "cell_type": "code",
   "execution_count": 2,
   "metadata": {},
   "outputs": [],
   "source": [
    "df = pd.read_csv('vehicle (1).csv')"
   ]
  },
  {
   "cell_type": "code",
   "execution_count": 3,
   "metadata": {},
   "outputs": [
    {
     "data": {
      "text/html": [
       "<div>\n",
       "<style scoped>\n",
       "    .dataframe tbody tr th:only-of-type {\n",
       "        vertical-align: middle;\n",
       "    }\n",
       "\n",
       "    .dataframe tbody tr th {\n",
       "        vertical-align: top;\n",
       "    }\n",
       "\n",
       "    .dataframe thead th {\n",
       "        text-align: right;\n",
       "    }\n",
       "</style>\n",
       "<table border=\"1\" class=\"dataframe\">\n",
       "  <thead>\n",
       "    <tr style=\"text-align: right;\">\n",
       "      <th></th>\n",
       "      <th>compactness</th>\n",
       "      <th>circularity</th>\n",
       "      <th>distance_circularity</th>\n",
       "      <th>radius_ratio</th>\n",
       "      <th>pr.axis_aspect_ratio</th>\n",
       "      <th>max.length_aspect_ratio</th>\n",
       "      <th>scatter_ratio</th>\n",
       "      <th>elongatedness</th>\n",
       "      <th>pr.axis_rectangularity</th>\n",
       "      <th>max.length_rectangularity</th>\n",
       "      <th>scaled_variance</th>\n",
       "      <th>scaled_variance.1</th>\n",
       "      <th>scaled_radius_of_gyration</th>\n",
       "      <th>scaled_radius_of_gyration.1</th>\n",
       "      <th>skewness_about</th>\n",
       "      <th>skewness_about.1</th>\n",
       "      <th>skewness_about.2</th>\n",
       "      <th>hollows_ratio</th>\n",
       "      <th>class</th>\n",
       "    </tr>\n",
       "  </thead>\n",
       "  <tbody>\n",
       "    <tr>\n",
       "      <th>0</th>\n",
       "      <td>95</td>\n",
       "      <td>48.0</td>\n",
       "      <td>83.0</td>\n",
       "      <td>178.0</td>\n",
       "      <td>72.0</td>\n",
       "      <td>10</td>\n",
       "      <td>162.0</td>\n",
       "      <td>42.0</td>\n",
       "      <td>20.0</td>\n",
       "      <td>159</td>\n",
       "      <td>176.0</td>\n",
       "      <td>379.0</td>\n",
       "      <td>184.0</td>\n",
       "      <td>70.0</td>\n",
       "      <td>6.0</td>\n",
       "      <td>16.0</td>\n",
       "      <td>187.0</td>\n",
       "      <td>197</td>\n",
       "      <td>van</td>\n",
       "    </tr>\n",
       "    <tr>\n",
       "      <th>1</th>\n",
       "      <td>91</td>\n",
       "      <td>41.0</td>\n",
       "      <td>84.0</td>\n",
       "      <td>141.0</td>\n",
       "      <td>57.0</td>\n",
       "      <td>9</td>\n",
       "      <td>149.0</td>\n",
       "      <td>45.0</td>\n",
       "      <td>19.0</td>\n",
       "      <td>143</td>\n",
       "      <td>170.0</td>\n",
       "      <td>330.0</td>\n",
       "      <td>158.0</td>\n",
       "      <td>72.0</td>\n",
       "      <td>9.0</td>\n",
       "      <td>14.0</td>\n",
       "      <td>189.0</td>\n",
       "      <td>199</td>\n",
       "      <td>van</td>\n",
       "    </tr>\n",
       "    <tr>\n",
       "      <th>2</th>\n",
       "      <td>104</td>\n",
       "      <td>50.0</td>\n",
       "      <td>106.0</td>\n",
       "      <td>209.0</td>\n",
       "      <td>66.0</td>\n",
       "      <td>10</td>\n",
       "      <td>207.0</td>\n",
       "      <td>32.0</td>\n",
       "      <td>23.0</td>\n",
       "      <td>158</td>\n",
       "      <td>223.0</td>\n",
       "      <td>635.0</td>\n",
       "      <td>220.0</td>\n",
       "      <td>73.0</td>\n",
       "      <td>14.0</td>\n",
       "      <td>9.0</td>\n",
       "      <td>188.0</td>\n",
       "      <td>196</td>\n",
       "      <td>car</td>\n",
       "    </tr>\n",
       "    <tr>\n",
       "      <th>3</th>\n",
       "      <td>93</td>\n",
       "      <td>41.0</td>\n",
       "      <td>82.0</td>\n",
       "      <td>159.0</td>\n",
       "      <td>63.0</td>\n",
       "      <td>9</td>\n",
       "      <td>144.0</td>\n",
       "      <td>46.0</td>\n",
       "      <td>19.0</td>\n",
       "      <td>143</td>\n",
       "      <td>160.0</td>\n",
       "      <td>309.0</td>\n",
       "      <td>127.0</td>\n",
       "      <td>63.0</td>\n",
       "      <td>6.0</td>\n",
       "      <td>10.0</td>\n",
       "      <td>199.0</td>\n",
       "      <td>207</td>\n",
       "      <td>van</td>\n",
       "    </tr>\n",
       "    <tr>\n",
       "      <th>4</th>\n",
       "      <td>85</td>\n",
       "      <td>44.0</td>\n",
       "      <td>70.0</td>\n",
       "      <td>205.0</td>\n",
       "      <td>103.0</td>\n",
       "      <td>52</td>\n",
       "      <td>149.0</td>\n",
       "      <td>45.0</td>\n",
       "      <td>19.0</td>\n",
       "      <td>144</td>\n",
       "      <td>241.0</td>\n",
       "      <td>325.0</td>\n",
       "      <td>188.0</td>\n",
       "      <td>127.0</td>\n",
       "      <td>9.0</td>\n",
       "      <td>11.0</td>\n",
       "      <td>180.0</td>\n",
       "      <td>183</td>\n",
       "      <td>bus</td>\n",
       "    </tr>\n",
       "  </tbody>\n",
       "</table>\n",
       "</div>"
      ],
      "text/plain": [
       "   compactness  circularity  distance_circularity  radius_ratio  \\\n",
       "0           95         48.0                  83.0         178.0   \n",
       "1           91         41.0                  84.0         141.0   \n",
       "2          104         50.0                 106.0         209.0   \n",
       "3           93         41.0                  82.0         159.0   \n",
       "4           85         44.0                  70.0         205.0   \n",
       "\n",
       "   pr.axis_aspect_ratio  max.length_aspect_ratio  scatter_ratio  \\\n",
       "0                  72.0                       10          162.0   \n",
       "1                  57.0                        9          149.0   \n",
       "2                  66.0                       10          207.0   \n",
       "3                  63.0                        9          144.0   \n",
       "4                 103.0                       52          149.0   \n",
       "\n",
       "   elongatedness  pr.axis_rectangularity  max.length_rectangularity  \\\n",
       "0           42.0                    20.0                        159   \n",
       "1           45.0                    19.0                        143   \n",
       "2           32.0                    23.0                        158   \n",
       "3           46.0                    19.0                        143   \n",
       "4           45.0                    19.0                        144   \n",
       "\n",
       "   scaled_variance  scaled_variance.1  scaled_radius_of_gyration  \\\n",
       "0            176.0              379.0                      184.0   \n",
       "1            170.0              330.0                      158.0   \n",
       "2            223.0              635.0                      220.0   \n",
       "3            160.0              309.0                      127.0   \n",
       "4            241.0              325.0                      188.0   \n",
       "\n",
       "   scaled_radius_of_gyration.1  skewness_about  skewness_about.1  \\\n",
       "0                         70.0             6.0              16.0   \n",
       "1                         72.0             9.0              14.0   \n",
       "2                         73.0            14.0               9.0   \n",
       "3                         63.0             6.0              10.0   \n",
       "4                        127.0             9.0              11.0   \n",
       "\n",
       "   skewness_about.2  hollows_ratio class  \n",
       "0             187.0            197   van  \n",
       "1             189.0            199   van  \n",
       "2             188.0            196   car  \n",
       "3             199.0            207   van  \n",
       "4             180.0            183   bus  "
      ]
     },
     "execution_count": 3,
     "metadata": {},
     "output_type": "execute_result"
    }
   ],
   "source": [
    "df.head()"
   ]
  },
  {
   "cell_type": "code",
   "execution_count": 4,
   "metadata": {},
   "outputs": [
    {
     "name": "stdout",
     "output_type": "stream",
     "text": [
      "<class 'pandas.core.frame.DataFrame'>\n",
      "RangeIndex: 846 entries, 0 to 845\n",
      "Data columns (total 19 columns):\n",
      "compactness                    846 non-null int64\n",
      "circularity                    841 non-null float64\n",
      "distance_circularity           842 non-null float64\n",
      "radius_ratio                   840 non-null float64\n",
      "pr.axis_aspect_ratio           844 non-null float64\n",
      "max.length_aspect_ratio        846 non-null int64\n",
      "scatter_ratio                  845 non-null float64\n",
      "elongatedness                  845 non-null float64\n",
      "pr.axis_rectangularity         843 non-null float64\n",
      "max.length_rectangularity      846 non-null int64\n",
      "scaled_variance                843 non-null float64\n",
      "scaled_variance.1              844 non-null float64\n",
      "scaled_radius_of_gyration      844 non-null float64\n",
      "scaled_radius_of_gyration.1    842 non-null float64\n",
      "skewness_about                 840 non-null float64\n",
      "skewness_about.1               845 non-null float64\n",
      "skewness_about.2               845 non-null float64\n",
      "hollows_ratio                  846 non-null int64\n",
      "class                          846 non-null object\n",
      "dtypes: float64(14), int64(4), object(1)\n",
      "memory usage: 125.7+ KB\n"
     ]
    }
   ],
   "source": [
    "df.info()"
   ]
  },
  {
   "cell_type": "code",
   "execution_count": 5,
   "metadata": {},
   "outputs": [
    {
     "data": {
      "text/plain": [
       "(846, 19)"
      ]
     },
     "execution_count": 5,
     "metadata": {},
     "output_type": "execute_result"
    }
   ],
   "source": [
    "df.shape"
   ]
  },
  {
   "cell_type": "code",
   "execution_count": 6,
   "metadata": {},
   "outputs": [
    {
     "data": {
      "text/plain": [
       "compactness                    0\n",
       "circularity                    5\n",
       "distance_circularity           4\n",
       "radius_ratio                   6\n",
       "pr.axis_aspect_ratio           2\n",
       "max.length_aspect_ratio        0\n",
       "scatter_ratio                  1\n",
       "elongatedness                  1\n",
       "pr.axis_rectangularity         3\n",
       "max.length_rectangularity      0\n",
       "scaled_variance                3\n",
       "scaled_variance.1              2\n",
       "scaled_radius_of_gyration      2\n",
       "scaled_radius_of_gyration.1    4\n",
       "skewness_about                 6\n",
       "skewness_about.1               1\n",
       "skewness_about.2               1\n",
       "hollows_ratio                  0\n",
       "class                          0\n",
       "dtype: int64"
      ]
     },
     "execution_count": 6,
     "metadata": {},
     "output_type": "execute_result"
    }
   ],
   "source": [
    "df.isnull().sum()"
   ]
  },
  {
   "cell_type": "code",
   "execution_count": 7,
   "metadata": {},
   "outputs": [],
   "source": [
    "df.dropna(inplace = True)"
   ]
  },
  {
   "cell_type": "code",
   "execution_count": 8,
   "metadata": {},
   "outputs": [
    {
     "data": {
      "text/html": [
       "<div>\n",
       "<style scoped>\n",
       "    .dataframe tbody tr th:only-of-type {\n",
       "        vertical-align: middle;\n",
       "    }\n",
       "\n",
       "    .dataframe tbody tr th {\n",
       "        vertical-align: top;\n",
       "    }\n",
       "\n",
       "    .dataframe thead th {\n",
       "        text-align: right;\n",
       "    }\n",
       "</style>\n",
       "<table border=\"1\" class=\"dataframe\">\n",
       "  <thead>\n",
       "    <tr style=\"text-align: right;\">\n",
       "      <th></th>\n",
       "      <th>compactness</th>\n",
       "      <th>circularity</th>\n",
       "      <th>distance_circularity</th>\n",
       "      <th>radius_ratio</th>\n",
       "      <th>pr.axis_aspect_ratio</th>\n",
       "      <th>max.length_aspect_ratio</th>\n",
       "      <th>scatter_ratio</th>\n",
       "      <th>elongatedness</th>\n",
       "      <th>pr.axis_rectangularity</th>\n",
       "      <th>max.length_rectangularity</th>\n",
       "      <th>scaled_variance</th>\n",
       "      <th>scaled_variance.1</th>\n",
       "      <th>scaled_radius_of_gyration</th>\n",
       "      <th>scaled_radius_of_gyration.1</th>\n",
       "      <th>skewness_about</th>\n",
       "      <th>skewness_about.1</th>\n",
       "      <th>skewness_about.2</th>\n",
       "      <th>hollows_ratio</th>\n",
       "    </tr>\n",
       "  </thead>\n",
       "  <tbody>\n",
       "    <tr>\n",
       "      <th>count</th>\n",
       "      <td>813.000000</td>\n",
       "      <td>813.000000</td>\n",
       "      <td>813.00000</td>\n",
       "      <td>813.000000</td>\n",
       "      <td>813.000000</td>\n",
       "      <td>813.000000</td>\n",
       "      <td>813.000000</td>\n",
       "      <td>813.00000</td>\n",
       "      <td>813.000000</td>\n",
       "      <td>813.000000</td>\n",
       "      <td>813.000000</td>\n",
       "      <td>813.000000</td>\n",
       "      <td>813.000000</td>\n",
       "      <td>813.000000</td>\n",
       "      <td>813.000000</td>\n",
       "      <td>813.000000</td>\n",
       "      <td>813.000000</td>\n",
       "      <td>813.000000</td>\n",
       "    </tr>\n",
       "    <tr>\n",
       "      <th>mean</th>\n",
       "      <td>93.656827</td>\n",
       "      <td>44.803198</td>\n",
       "      <td>82.04305</td>\n",
       "      <td>169.098401</td>\n",
       "      <td>61.774908</td>\n",
       "      <td>8.599016</td>\n",
       "      <td>168.563346</td>\n",
       "      <td>40.98893</td>\n",
       "      <td>20.558426</td>\n",
       "      <td>147.891759</td>\n",
       "      <td>188.377614</td>\n",
       "      <td>438.382534</td>\n",
       "      <td>174.252153</td>\n",
       "      <td>72.399754</td>\n",
       "      <td>6.351784</td>\n",
       "      <td>12.687577</td>\n",
       "      <td>188.979090</td>\n",
       "      <td>195.729397</td>\n",
       "    </tr>\n",
       "    <tr>\n",
       "      <th>std</th>\n",
       "      <td>8.233751</td>\n",
       "      <td>6.146659</td>\n",
       "      <td>15.78307</td>\n",
       "      <td>33.615402</td>\n",
       "      <td>7.973000</td>\n",
       "      <td>4.677174</td>\n",
       "      <td>33.082186</td>\n",
       "      <td>7.80338</td>\n",
       "      <td>2.573184</td>\n",
       "      <td>14.504648</td>\n",
       "      <td>31.165873</td>\n",
       "      <td>175.270368</td>\n",
       "      <td>32.332161</td>\n",
       "      <td>7.475994</td>\n",
       "      <td>4.921476</td>\n",
       "      <td>8.926951</td>\n",
       "      <td>6.153681</td>\n",
       "      <td>7.398781</td>\n",
       "    </tr>\n",
       "    <tr>\n",
       "      <th>min</th>\n",
       "      <td>73.000000</td>\n",
       "      <td>33.000000</td>\n",
       "      <td>40.00000</td>\n",
       "      <td>104.000000</td>\n",
       "      <td>47.000000</td>\n",
       "      <td>2.000000</td>\n",
       "      <td>112.000000</td>\n",
       "      <td>26.00000</td>\n",
       "      <td>17.000000</td>\n",
       "      <td>118.000000</td>\n",
       "      <td>130.000000</td>\n",
       "      <td>184.000000</td>\n",
       "      <td>109.000000</td>\n",
       "      <td>59.000000</td>\n",
       "      <td>0.000000</td>\n",
       "      <td>0.000000</td>\n",
       "      <td>176.000000</td>\n",
       "      <td>181.000000</td>\n",
       "    </tr>\n",
       "    <tr>\n",
       "      <th>25%</th>\n",
       "      <td>87.000000</td>\n",
       "      <td>40.000000</td>\n",
       "      <td>70.00000</td>\n",
       "      <td>141.000000</td>\n",
       "      <td>57.000000</td>\n",
       "      <td>7.000000</td>\n",
       "      <td>146.000000</td>\n",
       "      <td>33.00000</td>\n",
       "      <td>19.000000</td>\n",
       "      <td>137.000000</td>\n",
       "      <td>167.000000</td>\n",
       "      <td>318.000000</td>\n",
       "      <td>149.000000</td>\n",
       "      <td>67.000000</td>\n",
       "      <td>2.000000</td>\n",
       "      <td>6.000000</td>\n",
       "      <td>184.000000</td>\n",
       "      <td>191.000000</td>\n",
       "    </tr>\n",
       "    <tr>\n",
       "      <th>50%</th>\n",
       "      <td>93.000000</td>\n",
       "      <td>44.000000</td>\n",
       "      <td>79.00000</td>\n",
       "      <td>167.000000</td>\n",
       "      <td>61.000000</td>\n",
       "      <td>8.000000</td>\n",
       "      <td>157.000000</td>\n",
       "      <td>43.00000</td>\n",
       "      <td>20.000000</td>\n",
       "      <td>146.000000</td>\n",
       "      <td>179.000000</td>\n",
       "      <td>364.000000</td>\n",
       "      <td>173.000000</td>\n",
       "      <td>71.000000</td>\n",
       "      <td>6.000000</td>\n",
       "      <td>11.000000</td>\n",
       "      <td>189.000000</td>\n",
       "      <td>197.000000</td>\n",
       "    </tr>\n",
       "    <tr>\n",
       "      <th>75%</th>\n",
       "      <td>100.000000</td>\n",
       "      <td>49.000000</td>\n",
       "      <td>98.00000</td>\n",
       "      <td>195.000000</td>\n",
       "      <td>65.000000</td>\n",
       "      <td>10.000000</td>\n",
       "      <td>198.000000</td>\n",
       "      <td>46.00000</td>\n",
       "      <td>23.000000</td>\n",
       "      <td>159.000000</td>\n",
       "      <td>217.000000</td>\n",
       "      <td>586.000000</td>\n",
       "      <td>198.000000</td>\n",
       "      <td>75.000000</td>\n",
       "      <td>9.000000</td>\n",
       "      <td>19.000000</td>\n",
       "      <td>193.000000</td>\n",
       "      <td>201.000000</td>\n",
       "    </tr>\n",
       "    <tr>\n",
       "      <th>max</th>\n",
       "      <td>119.000000</td>\n",
       "      <td>59.000000</td>\n",
       "      <td>112.00000</td>\n",
       "      <td>333.000000</td>\n",
       "      <td>138.000000</td>\n",
       "      <td>55.000000</td>\n",
       "      <td>265.000000</td>\n",
       "      <td>61.00000</td>\n",
       "      <td>29.000000</td>\n",
       "      <td>188.000000</td>\n",
       "      <td>320.000000</td>\n",
       "      <td>1018.000000</td>\n",
       "      <td>268.000000</td>\n",
       "      <td>135.000000</td>\n",
       "      <td>22.000000</td>\n",
       "      <td>41.000000</td>\n",
       "      <td>206.000000</td>\n",
       "      <td>211.000000</td>\n",
       "    </tr>\n",
       "  </tbody>\n",
       "</table>\n",
       "</div>"
      ],
      "text/plain": [
       "       compactness  circularity  distance_circularity  radius_ratio  \\\n",
       "count   813.000000   813.000000             813.00000    813.000000   \n",
       "mean     93.656827    44.803198              82.04305    169.098401   \n",
       "std       8.233751     6.146659              15.78307     33.615402   \n",
       "min      73.000000    33.000000              40.00000    104.000000   \n",
       "25%      87.000000    40.000000              70.00000    141.000000   \n",
       "50%      93.000000    44.000000              79.00000    167.000000   \n",
       "75%     100.000000    49.000000              98.00000    195.000000   \n",
       "max     119.000000    59.000000             112.00000    333.000000   \n",
       "\n",
       "       pr.axis_aspect_ratio  max.length_aspect_ratio  scatter_ratio  \\\n",
       "count            813.000000               813.000000     813.000000   \n",
       "mean              61.774908                 8.599016     168.563346   \n",
       "std                7.973000                 4.677174      33.082186   \n",
       "min               47.000000                 2.000000     112.000000   \n",
       "25%               57.000000                 7.000000     146.000000   \n",
       "50%               61.000000                 8.000000     157.000000   \n",
       "75%               65.000000                10.000000     198.000000   \n",
       "max              138.000000                55.000000     265.000000   \n",
       "\n",
       "       elongatedness  pr.axis_rectangularity  max.length_rectangularity  \\\n",
       "count      813.00000              813.000000                 813.000000   \n",
       "mean        40.98893               20.558426                 147.891759   \n",
       "std          7.80338                2.573184                  14.504648   \n",
       "min         26.00000               17.000000                 118.000000   \n",
       "25%         33.00000               19.000000                 137.000000   \n",
       "50%         43.00000               20.000000                 146.000000   \n",
       "75%         46.00000               23.000000                 159.000000   \n",
       "max         61.00000               29.000000                 188.000000   \n",
       "\n",
       "       scaled_variance  scaled_variance.1  scaled_radius_of_gyration  \\\n",
       "count       813.000000         813.000000                 813.000000   \n",
       "mean        188.377614         438.382534                 174.252153   \n",
       "std          31.165873         175.270368                  32.332161   \n",
       "min         130.000000         184.000000                 109.000000   \n",
       "25%         167.000000         318.000000                 149.000000   \n",
       "50%         179.000000         364.000000                 173.000000   \n",
       "75%         217.000000         586.000000                 198.000000   \n",
       "max         320.000000        1018.000000                 268.000000   \n",
       "\n",
       "       scaled_radius_of_gyration.1  skewness_about  skewness_about.1  \\\n",
       "count                   813.000000      813.000000        813.000000   \n",
       "mean                     72.399754        6.351784         12.687577   \n",
       "std                       7.475994        4.921476          8.926951   \n",
       "min                      59.000000        0.000000          0.000000   \n",
       "25%                      67.000000        2.000000          6.000000   \n",
       "50%                      71.000000        6.000000         11.000000   \n",
       "75%                      75.000000        9.000000         19.000000   \n",
       "max                     135.000000       22.000000         41.000000   \n",
       "\n",
       "       skewness_about.2  hollows_ratio  \n",
       "count        813.000000     813.000000  \n",
       "mean         188.979090     195.729397  \n",
       "std            6.153681       7.398781  \n",
       "min          176.000000     181.000000  \n",
       "25%          184.000000     191.000000  \n",
       "50%          189.000000     197.000000  \n",
       "75%          193.000000     201.000000  \n",
       "max          206.000000     211.000000  "
      ]
     },
     "execution_count": 8,
     "metadata": {},
     "output_type": "execute_result"
    }
   ],
   "source": [
    "df.describe()"
   ]
  },
  {
   "cell_type": "code",
   "execution_count": 9,
   "metadata": {},
   "outputs": [
    {
     "data": {
      "text/plain": [
       "(813, 19)"
      ]
     },
     "execution_count": 9,
     "metadata": {},
     "output_type": "execute_result"
    }
   ],
   "source": [
    "df.shape"
   ]
  },
  {
   "cell_type": "markdown",
   "metadata": {},
   "source": [
    "##### standardising the values"
   ]
  },
  {
   "cell_type": "code",
   "execution_count": 10,
   "metadata": {},
   "outputs": [],
   "source": [
    "from sklearn.preprocessing import StandardScaler\n",
    "\n",
    "sc = StandardScaler()\n",
    "scale = sc.fit_transform(df.iloc[:,:-1])"
   ]
  },
  {
   "cell_type": "markdown",
   "metadata": {},
   "source": [
    "##### PCA"
   ]
  },
  {
   "cell_type": "code",
   "execution_count": 11,
   "metadata": {},
   "outputs": [],
   "source": [
    "from sklearn.decomposition import PCA\n",
    "\n",
    "pc = PCA(n_components=len(df.columns)-1)\n",
    "p_comp = pc.fit_transform(scale)"
   ]
  },
  {
   "cell_type": "code",
   "execution_count": 12,
   "metadata": {},
   "outputs": [],
   "source": [
    "df_pca = pd.DataFrame(p_comp,columns = df.columns[:-1])"
   ]
  },
  {
   "cell_type": "code",
   "execution_count": 13,
   "metadata": {},
   "outputs": [
    {
     "data": {
      "text/html": [
       "<div>\n",
       "<style scoped>\n",
       "    .dataframe tbody tr th:only-of-type {\n",
       "        vertical-align: middle;\n",
       "    }\n",
       "\n",
       "    .dataframe tbody tr th {\n",
       "        vertical-align: top;\n",
       "    }\n",
       "\n",
       "    .dataframe thead th {\n",
       "        text-align: right;\n",
       "    }\n",
       "</style>\n",
       "<table border=\"1\" class=\"dataframe\">\n",
       "  <thead>\n",
       "    <tr style=\"text-align: right;\">\n",
       "      <th></th>\n",
       "      <th>compactness</th>\n",
       "      <th>circularity</th>\n",
       "      <th>distance_circularity</th>\n",
       "      <th>radius_ratio</th>\n",
       "      <th>pr.axis_aspect_ratio</th>\n",
       "      <th>max.length_aspect_ratio</th>\n",
       "      <th>scatter_ratio</th>\n",
       "      <th>elongatedness</th>\n",
       "      <th>pr.axis_rectangularity</th>\n",
       "      <th>max.length_rectangularity</th>\n",
       "      <th>scaled_variance</th>\n",
       "      <th>scaled_variance.1</th>\n",
       "      <th>scaled_radius_of_gyration</th>\n",
       "      <th>scaled_radius_of_gyration.1</th>\n",
       "      <th>skewness_about</th>\n",
       "      <th>skewness_about.1</th>\n",
       "      <th>skewness_about.2</th>\n",
       "      <th>hollows_ratio</th>\n",
       "    </tr>\n",
       "  </thead>\n",
       "  <tbody>\n",
       "    <tr>\n",
       "      <th>0</th>\n",
       "      <td>0.352249</td>\n",
       "      <td>-0.141027</td>\n",
       "      <td>0.961832</td>\n",
       "      <td>0.190872</td>\n",
       "      <td>0.069616</td>\n",
       "      <td>-0.740301</td>\n",
       "      <td>-0.882080</td>\n",
       "      <td>-0.388323</td>\n",
       "      <td>-0.908189</td>\n",
       "      <td>0.087236</td>\n",
       "      <td>0.011048</td>\n",
       "      <td>0.035379</td>\n",
       "      <td>-0.185637</td>\n",
       "      <td>-0.202200</td>\n",
       "      <td>0.184974</td>\n",
       "      <td>0.091062</td>\n",
       "      <td>-0.020625</td>\n",
       "      <td>-0.047769</td>\n",
       "    </tr>\n",
       "    <tr>\n",
       "      <th>1</th>\n",
       "      <td>-1.578072</td>\n",
       "      <td>-0.422197</td>\n",
       "      <td>-0.365261</td>\n",
       "      <td>0.239334</td>\n",
       "      <td>0.685899</td>\n",
       "      <td>-0.530580</td>\n",
       "      <td>0.345639</td>\n",
       "      <td>0.258324</td>\n",
       "      <td>0.137883</td>\n",
       "      <td>-0.093291</td>\n",
       "      <td>0.497768</td>\n",
       "      <td>-0.265891</td>\n",
       "      <td>-0.040406</td>\n",
       "      <td>-0.070293</td>\n",
       "      <td>0.070994</td>\n",
       "      <td>-0.036181</td>\n",
       "      <td>0.040015</td>\n",
       "      <td>0.026009</td>\n",
       "    </tr>\n",
       "    <tr>\n",
       "      <th>2</th>\n",
       "      <td>3.782556</td>\n",
       "      <td>0.253257</td>\n",
       "      <td>0.061756</td>\n",
       "      <td>1.216416</td>\n",
       "      <td>0.717337</td>\n",
       "      <td>0.728388</td>\n",
       "      <td>-0.015941</td>\n",
       "      <td>0.478896</td>\n",
       "      <td>-0.275968</td>\n",
       "      <td>-0.477401</td>\n",
       "      <td>0.258087</td>\n",
       "      <td>-0.144333</td>\n",
       "      <td>-0.058469</td>\n",
       "      <td>-0.061558</td>\n",
       "      <td>-0.001669</td>\n",
       "      <td>-0.127062</td>\n",
       "      <td>0.170354</td>\n",
       "      <td>-0.014654</td>\n",
       "    </tr>\n",
       "    <tr>\n",
       "      <th>3</th>\n",
       "      <td>-1.713214</td>\n",
       "      <td>-2.819496</td>\n",
       "      <td>0.186835</td>\n",
       "      <td>0.379588</td>\n",
       "      <td>-0.357389</td>\n",
       "      <td>-0.514101</td>\n",
       "      <td>0.450872</td>\n",
       "      <td>-0.011059</td>\n",
       "      <td>-0.061825</td>\n",
       "      <td>0.456355</td>\n",
       "      <td>0.374730</td>\n",
       "      <td>0.029172</td>\n",
       "      <td>0.191231</td>\n",
       "      <td>-0.235635</td>\n",
       "      <td>-0.079262</td>\n",
       "      <td>0.098868</td>\n",
       "      <td>-0.087823</td>\n",
       "      <td>0.000887</td>\n",
       "    </tr>\n",
       "    <tr>\n",
       "      <th>4</th>\n",
       "      <td>0.532165</td>\n",
       "      <td>5.153595</td>\n",
       "      <td>11.400516</td>\n",
       "      <td>0.066717</td>\n",
       "      <td>3.242363</td>\n",
       "      <td>-0.360525</td>\n",
       "      <td>2.569695</td>\n",
       "      <td>-0.400351</td>\n",
       "      <td>2.111091</td>\n",
       "      <td>-0.332323</td>\n",
       "      <td>0.201103</td>\n",
       "      <td>-0.137255</td>\n",
       "      <td>-0.131083</td>\n",
       "      <td>-0.379950</td>\n",
       "      <td>-0.346862</td>\n",
       "      <td>0.167944</td>\n",
       "      <td>-0.037006</td>\n",
       "      <td>0.013389</td>\n",
       "    </tr>\n",
       "  </tbody>\n",
       "</table>\n",
       "</div>"
      ],
      "text/plain": [
       "   compactness  circularity  distance_circularity  radius_ratio  \\\n",
       "0     0.352249    -0.141027              0.961832      0.190872   \n",
       "1    -1.578072    -0.422197             -0.365261      0.239334   \n",
       "2     3.782556     0.253257              0.061756      1.216416   \n",
       "3    -1.713214    -2.819496              0.186835      0.379588   \n",
       "4     0.532165     5.153595             11.400516      0.066717   \n",
       "\n",
       "   pr.axis_aspect_ratio  max.length_aspect_ratio  scatter_ratio  \\\n",
       "0              0.069616                -0.740301      -0.882080   \n",
       "1              0.685899                -0.530580       0.345639   \n",
       "2              0.717337                 0.728388      -0.015941   \n",
       "3             -0.357389                -0.514101       0.450872   \n",
       "4              3.242363                -0.360525       2.569695   \n",
       "\n",
       "   elongatedness  pr.axis_rectangularity  max.length_rectangularity  \\\n",
       "0      -0.388323               -0.908189                   0.087236   \n",
       "1       0.258324                0.137883                  -0.093291   \n",
       "2       0.478896               -0.275968                  -0.477401   \n",
       "3      -0.011059               -0.061825                   0.456355   \n",
       "4      -0.400351                2.111091                  -0.332323   \n",
       "\n",
       "   scaled_variance  scaled_variance.1  scaled_radius_of_gyration  \\\n",
       "0         0.011048           0.035379                  -0.185637   \n",
       "1         0.497768          -0.265891                  -0.040406   \n",
       "2         0.258087          -0.144333                  -0.058469   \n",
       "3         0.374730           0.029172                   0.191231   \n",
       "4         0.201103          -0.137255                  -0.131083   \n",
       "\n",
       "   scaled_radius_of_gyration.1  skewness_about  skewness_about.1  \\\n",
       "0                    -0.202200        0.184974          0.091062   \n",
       "1                    -0.070293        0.070994         -0.036181   \n",
       "2                    -0.061558       -0.001669         -0.127062   \n",
       "3                    -0.235635       -0.079262          0.098868   \n",
       "4                    -0.379950       -0.346862          0.167944   \n",
       "\n",
       "   skewness_about.2  hollows_ratio  \n",
       "0         -0.020625      -0.047769  \n",
       "1          0.040015       0.026009  \n",
       "2          0.170354      -0.014654  \n",
       "3         -0.087823       0.000887  \n",
       "4         -0.037006       0.013389  "
      ]
     },
     "execution_count": 13,
     "metadata": {},
     "output_type": "execute_result"
    }
   ],
   "source": [
    "df_pca.head()"
   ]
  },
  {
   "cell_type": "code",
   "execution_count": 14,
   "metadata": {},
   "outputs": [
    {
     "data": {
      "text/plain": [
       "(813, 18)"
      ]
     },
     "execution_count": 14,
     "metadata": {},
     "output_type": "execute_result"
    }
   ],
   "source": [
    "df_pca.shape"
   ]
  },
  {
   "cell_type": "code",
   "execution_count": 15,
   "metadata": {},
   "outputs": [
    {
     "data": {
      "text/plain": [
       "[<matplotlib.lines.Line2D at 0x13913d2fc18>]"
      ]
     },
     "execution_count": 15,
     "metadata": {},
     "output_type": "execute_result"
    },
    {
     "data": {
      "image/png": "[encoded data removed]",
      "text/plain": [
       "<Figure size 432x288 with 1 Axes>"
      ]
     },
     "metadata": {
      "needs_background": "light"
     },
     "output_type": "display_data"
    }
   ],
   "source": [
    "plt.xticks(np.arange(0,len(df.columns)))\n",
    "plt.plot(np.arange(pc.n_components_),(pc.explained_variance_ratio_),'*-')"
   ]
  },
  {
   "cell_type": "code",
   "execution_count": 16,
   "metadata": {},
   "outputs": [
    {
     "data": {
      "text/plain": [
       "[<matplotlib.lines.Line2D at 0x13913df9cc0>]"
      ]
     },
     "execution_count": 16,
     "metadata": {},
     "output_type": "execute_result"
    },
    {
     "data": {
      "image/png": "[encoded data removed]",
      "text/plain": [
       "<Figure size 864x576 with 1 Axes>"
      ]
     },
     "metadata": {
      "needs_background": "light"
     },
     "output_type": "display_data"
    }
   ],
   "source": [
    "plt.figure(figsize = (12,8))\n",
    "plt.axhline(1,c = 'r')\n",
    "plt.xticks(np.arange(0,len(df.columns)))\n",
    "plt.plot(np.arange(pc.n_components_),np.cumsum(pc.explained_variance_ratio_),'*-')"
   ]
  },
  {
   "cell_type": "markdown",
   "metadata": {},
   "source": [
    "let n_components be 11"
   ]
  },
  {
   "cell_type": "code",
   "execution_count": 17,
   "metadata": {},
   "outputs": [],
   "source": [
    "data_pca = df_pca.iloc[:,:11]"
   ]
  },
  {
   "cell_type": "code",
   "execution_count": 18,
   "metadata": {},
   "outputs": [],
   "source": [
    "df.index = data_pca.index"
   ]
  },
  {
   "cell_type": "code",
   "execution_count": 19,
   "metadata": {
    "scrolled": false
   },
   "outputs": [
    {
     "data": {
      "text/html": [
       "<div>\n",
       "<style scoped>\n",
       "    .dataframe tbody tr th:only-of-type {\n",
       "        vertical-align: middle;\n",
       "    }\n",
       "\n",
       "    .dataframe tbody tr th {\n",
       "        vertical-align: top;\n",
       "    }\n",
       "\n",
       "    .dataframe thead th {\n",
       "        text-align: right;\n",
       "    }\n",
       "</style>\n",
       "<table border=\"1\" class=\"dataframe\">\n",
       "  <thead>\n",
       "    <tr style=\"text-align: right;\">\n",
       "      <th></th>\n",
       "      <th>compactness</th>\n",
       "      <th>circularity</th>\n",
       "      <th>distance_circularity</th>\n",
       "      <th>radius_ratio</th>\n",
       "      <th>pr.axis_aspect_ratio</th>\n",
       "      <th>max.length_aspect_ratio</th>\n",
       "      <th>scatter_ratio</th>\n",
       "      <th>elongatedness</th>\n",
       "      <th>pr.axis_rectangularity</th>\n",
       "      <th>max.length_rectangularity</th>\n",
       "      <th>scaled_variance</th>\n",
       "      <th>scaled_variance.1</th>\n",
       "      <th>scaled_radius_of_gyration</th>\n",
       "      <th>scaled_radius_of_gyration.1</th>\n",
       "      <th>skewness_about</th>\n",
       "      <th>skewness_about.1</th>\n",
       "      <th>skewness_about.2</th>\n",
       "      <th>hollows_ratio</th>\n",
       "    </tr>\n",
       "  </thead>\n",
       "  <tbody>\n",
       "    <tr>\n",
       "      <th>PC-1</th>\n",
       "      <td>0.274447</td>\n",
       "      <td>0.294004</td>\n",
       "      <td>0.304380</td>\n",
       "      <td>0.268889</td>\n",
       "      <td>0.083020</td>\n",
       "      <td>0.098483</td>\n",
       "      <td>0.316689</td>\n",
       "      <td>-0.313205</td>\n",
       "      <td>0.313612</td>\n",
       "      <td>0.281286</td>\n",
       "      <td>0.309162</td>\n",
       "      <td>0.314164</td>\n",
       "      <td>0.270337</td>\n",
       "      <td>-0.025604</td>\n",
       "      <td>0.039680</td>\n",
       "      <td>0.063160</td>\n",
       "      <td>0.030941</td>\n",
       "      <td>0.079366</td>\n",
       "    </tr>\n",
       "    <tr>\n",
       "      <th>PC-2</th>\n",
       "      <td>-0.127106</td>\n",
       "      <td>0.134430</td>\n",
       "      <td>-0.072145</td>\n",
       "      <td>-0.176416</td>\n",
       "      <td>-0.098763</td>\n",
       "      <td>0.030207</td>\n",
       "      <td>0.044390</td>\n",
       "      <td>0.015254</td>\n",
       "      <td>0.057231</td>\n",
       "      <td>0.120324</td>\n",
       "      <td>0.061910</td>\n",
       "      <td>0.048021</td>\n",
       "      <td>0.210170</td>\n",
       "      <td>0.493794</td>\n",
       "      <td>-0.056260</td>\n",
       "      <td>-0.121035</td>\n",
       "      <td>-0.544492</td>\n",
       "      <td>-0.538882</td>\n",
       "    </tr>\n",
       "    <tr>\n",
       "      <th>PC-3</th>\n",
       "      <td>-0.115778</td>\n",
       "      <td>-0.036451</td>\n",
       "      <td>-0.055188</td>\n",
       "      <td>0.281805</td>\n",
       "      <td>0.645769</td>\n",
       "      <td>0.586412</td>\n",
       "      <td>-0.098585</td>\n",
       "      <td>0.056652</td>\n",
       "      <td>-0.112039</td>\n",
       "      <td>-0.024132</td>\n",
       "      <td>0.059723</td>\n",
       "      <td>-0.109453</td>\n",
       "      <td>-0.037063</td>\n",
       "      <td>0.275780</td>\n",
       "      <td>-0.110192</td>\n",
       "      <td>-0.080499</td>\n",
       "      <td>0.031728</td>\n",
       "      <td>0.056946</td>\n",
       "    </tr>\n",
       "    <tr>\n",
       "      <th>PC-4</th>\n",
       "      <td>0.080077</td>\n",
       "      <td>0.190342</td>\n",
       "      <td>-0.069371</td>\n",
       "      <td>-0.044651</td>\n",
       "      <td>0.030053</td>\n",
       "      <td>0.029750</td>\n",
       "      <td>-0.094417</td>\n",
       "      <td>0.085067</td>\n",
       "      <td>-0.091897</td>\n",
       "      <td>0.192294</td>\n",
       "      <td>-0.119476</td>\n",
       "      <td>-0.091318</td>\n",
       "      <td>0.204887</td>\n",
       "      <td>-0.071533</td>\n",
       "      <td>0.605083</td>\n",
       "      <td>-0.662058</td>\n",
       "      <td>0.101853</td>\n",
       "      <td>0.051579</td>\n",
       "    </tr>\n",
       "    <tr>\n",
       "      <th>PC-5</th>\n",
       "      <td>0.070197</td>\n",
       "      <td>-0.086673</td>\n",
       "      <td>0.038959</td>\n",
       "      <td>-0.043663</td>\n",
       "      <td>-0.038468</td>\n",
       "      <td>0.212001</td>\n",
       "      <td>-0.017016</td>\n",
       "      <td>0.075823</td>\n",
       "      <td>0.000739</td>\n",
       "      <td>-0.064243</td>\n",
       "      <td>0.002564</td>\n",
       "      <td>-0.019443</td>\n",
       "      <td>-0.063195</td>\n",
       "      <td>0.149127</td>\n",
       "      <td>0.729058</td>\n",
       "      <td>0.599762</td>\n",
       "      <td>-0.094108</td>\n",
       "      <td>-0.028860</td>\n",
       "    </tr>\n",
       "    <tr>\n",
       "      <th>PC-6</th>\n",
       "      <td>0.141269</td>\n",
       "      <td>-0.278132</td>\n",
       "      <td>-0.136323</td>\n",
       "      <td>0.255012</td>\n",
       "      <td>0.237902</td>\n",
       "      <td>-0.438916</td>\n",
       "      <td>0.116490</td>\n",
       "      <td>-0.147679</td>\n",
       "      <td>0.091503</td>\n",
       "      <td>-0.462569</td>\n",
       "      <td>0.230563</td>\n",
       "      <td>0.152146</td>\n",
       "      <td>-0.133617</td>\n",
       "      <td>0.232402</td>\n",
       "      <td>0.206512</td>\n",
       "      <td>-0.194571</td>\n",
       "      <td>0.146275</td>\n",
       "      <td>-0.249059</td>\n",
       "    </tr>\n",
       "    <tr>\n",
       "      <th>PC-7</th>\n",
       "      <td>0.478882</td>\n",
       "      <td>-0.232113</td>\n",
       "      <td>0.060174</td>\n",
       "      <td>-0.169695</td>\n",
       "      <td>-0.385741</td>\n",
       "      <td>0.485306</td>\n",
       "      <td>0.065837</td>\n",
       "      <td>0.015051</td>\n",
       "      <td>0.097730</td>\n",
       "      <td>-0.107288</td>\n",
       "      <td>0.114298</td>\n",
       "      <td>0.082243</td>\n",
       "      <td>-0.391192</td>\n",
       "      <td>0.117229</td>\n",
       "      <td>-0.077334</td>\n",
       "      <td>-0.285756</td>\n",
       "      <td>0.014073</td>\n",
       "      <td>0.000162</td>\n",
       "    </tr>\n",
       "    <tr>\n",
       "      <th>PC-8</th>\n",
       "      <td>-0.551289</td>\n",
       "      <td>-0.177147</td>\n",
       "      <td>0.436496</td>\n",
       "      <td>0.097423</td>\n",
       "      <td>-0.076288</td>\n",
       "      <td>0.173622</td>\n",
       "      <td>0.102868</td>\n",
       "      <td>-0.216261</td>\n",
       "      <td>0.070435</td>\n",
       "      <td>-0.251591</td>\n",
       "      <td>0.048844</td>\n",
       "      <td>0.036091</td>\n",
       "      <td>-0.124748</td>\n",
       "      <td>-0.340135</td>\n",
       "      <td>0.156635</td>\n",
       "      <td>-0.213790</td>\n",
       "      <td>-0.311235</td>\n",
       "      <td>-0.032482</td>\n",
       "    </tr>\n",
       "    <tr>\n",
       "      <th>PC-9</th>\n",
       "      <td>-0.470291</td>\n",
       "      <td>-0.008149</td>\n",
       "      <td>-0.176998</td>\n",
       "      <td>-0.223935</td>\n",
       "      <td>-0.297909</td>\n",
       "      <td>0.158407</td>\n",
       "      <td>0.065944</td>\n",
       "      <td>-0.167628</td>\n",
       "      <td>0.014811</td>\n",
       "      <td>-0.094669</td>\n",
       "      <td>0.301488</td>\n",
       "      <td>0.074007</td>\n",
       "      <td>0.241942</td>\n",
       "      <td>0.321738</td>\n",
       "      <td>0.022021</td>\n",
       "      <td>-0.006050</td>\n",
       "      <td>0.503554</td>\n",
       "      <td>0.171175</td>\n",
       "    </tr>\n",
       "    <tr>\n",
       "      <th>PC-10</th>\n",
       "      <td>-0.271012</td>\n",
       "      <td>0.087246</td>\n",
       "      <td>-0.214800</td>\n",
       "      <td>-0.055995</td>\n",
       "      <td>0.112777</td>\n",
       "      <td>-0.123445</td>\n",
       "      <td>0.169547</td>\n",
       "      <td>-0.145781</td>\n",
       "      <td>0.202573</td>\n",
       "      <td>0.477074</td>\n",
       "      <td>-0.119098</td>\n",
       "      <td>0.152180</td>\n",
       "      <td>-0.671019</td>\n",
       "      <td>0.132622</td>\n",
       "      <td>0.100709</td>\n",
       "      <td>-0.034329</td>\n",
       "      <td>0.021725</td>\n",
       "      <td>0.078010</td>\n",
       "    </tr>\n",
       "    <tr>\n",
       "      <th>PC-11</th>\n",
       "      <td>0.038848</td>\n",
       "      <td>-0.011086</td>\n",
       "      <td>0.702547</td>\n",
       "      <td>-0.118843</td>\n",
       "      <td>0.036258</td>\n",
       "      <td>-0.261998</td>\n",
       "      <td>-0.158595</td>\n",
       "      <td>-0.054759</td>\n",
       "      <td>-0.271337</td>\n",
       "      <td>0.154730</td>\n",
       "      <td>0.093273</td>\n",
       "      <td>-0.246984</td>\n",
       "      <td>-0.152481</td>\n",
       "      <td>0.418581</td>\n",
       "      <td>-0.012199</td>\n",
       "      <td>-0.035277</td>\n",
       "      <td>0.127447</td>\n",
       "      <td>0.095927</td>\n",
       "    </tr>\n",
       "  </tbody>\n",
       "</table>\n",
       "</div>"
      ],
      "text/plain": [
       "       compactness  circularity  distance_circularity  radius_ratio  \\\n",
       "PC-1      0.274447     0.294004              0.304380      0.268889   \n",
       "PC-2     -0.127106     0.134430             -0.072145     -0.176416   \n",
       "PC-3     -0.115778    -0.036451             -0.055188      0.281805   \n",
       "PC-4      0.080077     0.190342             -0.069371     -0.044651   \n",
       "PC-5      0.070197    -0.086673              0.038959     -0.043663   \n",
       "PC-6      0.141269    -0.278132             -0.136323      0.255012   \n",
       "PC-7      0.478882    -0.232113              0.060174     -0.169695   \n",
       "PC-8     -0.551289    -0.177147              0.436496      0.097423   \n",
       "PC-9     -0.470291    -0.008149             -0.176998     -0.223935   \n",
       "PC-10    -0.271012     0.087246             -0.214800     -0.055995   \n",
       "PC-11     0.038848    -0.011086              0.702547     -0.118843   \n",
       "\n",
       "       pr.axis_aspect_ratio  max.length_aspect_ratio  scatter_ratio  \\\n",
       "PC-1               0.083020                 0.098483       0.316689   \n",
       "PC-2              -0.098763                 0.030207       0.044390   \n",
       "PC-3               0.645769                 0.586412      -0.098585   \n",
       "PC-4               0.030053                 0.029750      -0.094417   \n",
       "PC-5              -0.038468                 0.212001      -0.017016   \n",
       "PC-6               0.237902                -0.438916       0.116490   \n",
       "PC-7              -0.385741                 0.485306       0.065837   \n",
       "PC-8              -0.076288                 0.173622       0.102868   \n",
       "PC-9              -0.297909                 0.158407       0.065944   \n",
       "PC-10              0.112777                -0.123445       0.169547   \n",
       "PC-11              0.036258                -0.261998      -0.158595   \n",
       "\n",
       "       elongatedness  pr.axis_rectangularity  max.length_rectangularity  \\\n",
       "PC-1       -0.313205                0.313612                   0.281286   \n",
       "PC-2        0.015254                0.057231                   0.120324   \n",
       "PC-3        0.056652               -0.112039                  -0.024132   \n",
       "PC-4        0.085067               -0.091897                   0.192294   \n",
       "PC-5        0.075823                0.000739                  -0.064243   \n",
       "PC-6       -0.147679                0.091503                  -0.462569   \n",
       "PC-7        0.015051                0.097730                  -0.107288   \n",
       "PC-8       -0.216261                0.070435                  -0.251591   \n",
       "PC-9       -0.167628                0.014811                  -0.094669   \n",
       "PC-10      -0.145781                0.202573                   0.477074   \n",
       "PC-11      -0.054759               -0.271337                   0.154730   \n",
       "\n",
       "       scaled_variance  scaled_variance.1  scaled_radius_of_gyration  \\\n",
       "PC-1          0.309162           0.314164                   0.270337   \n",
       "PC-2          0.061910           0.048021                   0.210170   \n",
       "PC-3          0.059723          -0.109453                  -0.037063   \n",
       "PC-4         -0.119476          -0.091318                   0.204887   \n",
       "PC-5          0.002564          -0.019443                  -0.063195   \n",
       "PC-6          0.230563           0.152146                  -0.133617   \n",
       "PC-7          0.114298           0.082243                  -0.391192   \n",
       "PC-8          0.048844           0.036091                  -0.124748   \n",
       "PC-9          0.301488           0.074007                   0.241942   \n",
       "PC-10        -0.119098           0.152180                  -0.671019   \n",
       "PC-11         0.093273          -0.246984                  -0.152481   \n",
       "\n",
       "       scaled_radius_of_gyration.1  skewness_about  skewness_about.1  \\\n",
       "PC-1                     -0.025604        0.039680          0.063160   \n",
       "PC-2                      0.493794       -0.056260         -0.121035   \n",
       "PC-3                      0.275780       -0.110192         -0.080499   \n",
       "PC-4                     -0.071533        0.605083         -0.662058   \n",
       "PC-5                      0.149127        0.729058          0.599762   \n",
       "PC-6                      0.232402        0.206512         -0.194571   \n",
       "PC-7                      0.117229       -0.077334         -0.285756   \n",
       "PC-8                     -0.340135        0.156635         -0.213790   \n",
       "PC-9                      0.321738        0.022021         -0.006050   \n",
       "PC-10                     0.132622        0.100709         -0.034329   \n",
       "PC-11                     0.418581       -0.012199         -0.035277   \n",
       "\n",
       "       skewness_about.2  hollows_ratio  \n",
       "PC-1           0.030941       0.079366  \n",
       "PC-2          -0.544492      -0.538882  \n",
       "PC-3           0.031728       0.056946  \n",
       "PC-4           0.101853       0.051579  \n",
       "PC-5          -0.094108      -0.028860  \n",
       "PC-6           0.146275      -0.249059  \n",
       "PC-7           0.014073       0.000162  \n",
       "PC-8          -0.311235      -0.032482  \n",
       "PC-9           0.503554       0.171175  \n",
       "PC-10          0.021725       0.078010  \n",
       "PC-11          0.127447       0.095927  "
      ]
     },
     "execution_count": 19,
     "metadata": {},
     "output_type": "execute_result"
    }
   ],
   "source": [
    "pd.DataFrame(pc.components_[:11,:],columns = df_pca.columns,\n",
    "                   index = ['PC-1','PC-2','PC-3','PC-4','PC-5','PC-6','PC-7','PC-8',\n",
    "                            'PC-9','PC-10','PC-11'])#,'PC-12','PC-13','PC-14','PC-15','PC-16','PC-17','PC-18'])"
   ]
  },
  {
   "cell_type": "markdown",
   "metadata": {},
   "source": [
    "##### Kmeans"
   ]
  },
  {
   "cell_type": "code",
   "execution_count": 20,
   "metadata": {},
   "outputs": [],
   "source": [
    "from sklearn.cluster import KMeans\n",
    "\n",
    "km = KMeans(n_clusters=17)\n",
    "km.fit(df_pca.iloc[:,:11])\n",
    "km_pred = km.fit_predict(data_pca)"
   ]
  },
  {
   "cell_type": "code",
   "execution_count": 21,
   "metadata": {},
   "outputs": [
    {
     "data": {
      "text/plain": [
       "array([ 2,  2,  6, 14,  3,  7, 14, 16, 16, 16, 12,  2, 10,  0, 13, 11,  0,\n",
       "       12, 13, 14,  5,  0, 12, 13,  0, 10,  4,  2, 14, 16, 15, 11,  9,  3,\n",
       "        0, 12, 10, 13,  2, 11,  6,  2,  5,  9,  2,  7, 13, 11,  0, 14,  8,\n",
       "       14, 10,  2,  0,  4, 10,  4,  4, 12, 10,  4,  0, 12, 10,  0,  1, 13,\n",
       "        2, 10,  1,  9, 12,  0,  5,  4, 11,  8, 12,  5, 11, 13,  0,  1,  6,\n",
       "        2, 12, 15,  4, 12, 15,  9,  3,  7, 14,  4,  1,  1,  5,  9, 10, 12,\n",
       "        2,  4,  4,  2,  7, 10, 15,  7,  4,  2, 14,  4, 12,  2, 12, 12,  7,\n",
       "       10, 10, 16,  1,  5, 15,  3,  2, 14,  4, 12, 16, 15,  9,  7,  0,  7,\n",
       "       11, 14, 16, 10,  1, 16, 15, 12,  8, 16,  5, 16, 13,  6, 11,  5,  0,\n",
       "       15, 16,  6,  9,  5,  6,  8,  7, 15,  2, 11,  1, 11,  9,  0, 13, 14,\n",
       "        4, 10, 11, 11,  7,  0, 11,  7, 12,  8,  1,  9,  6,  9,  9,  9,  2,\n",
       "       16,  6,  0, 14, 12, 12, 12,  0, 11,  5, 11, 15,  5,  9,  0, 12, 14,\n",
       "        0,  2,  9,  4, 14,  6, 14, 15,  9, 13, 13,  9,  0, 14,  2, 11,  0,\n",
       "        9, 16,  7,  9,  0,  2,  4, 11,  1,  0,  4,  0,  2, 14,  2, 15, 16,\n",
       "       14, 10,  0, 13,  1, 14, 16,  7,  9,  7, 14, 13,  9, 10, 16,  8, 12,\n",
       "       12,  9, 15, 11, 10, 12,  9, 15,  2, 12, 10,  4,  5,  3, 12, 16,  8,\n",
       "       11, 10,  4,  1, 11, 15,  7, 11, 16,  9, 12, 15,  0, 15, 10,  2, 12,\n",
       "       15,  9,  4,  5,  1, 13,  0,  8,  9, 10,  1,  9,  7,  2, 11, 14, 10,\n",
       "       15,  9,  8,  0,  2, 15,  7, 12, 12, 12, 13,  6,  0,  6, 14, 14, 14,\n",
       "        1,  9,  2, 12,  7,  1,  7, 15, 12, 10, 15, 15,  7,  2,  2,  6,  2,\n",
       "        4, 12,  2, 11,  7,  7, 13,  8, 15,  5, 13,  0, 13,  8,  9,  0, 12,\n",
       "        2, 10,  2,  3,  0,  9, 14,  7, 12, 10,  5, 12, 11, 14,  6, 16,  6,\n",
       "       14, 15, 11, 13,  5, 12,  1,  7, 13,  9, 16,  2, 15, 14, 11, 12, 13,\n",
       "       10, 16,  9,  1, 16, 15,  1, 15, 14,  0, 10,  4,  9, 15, 16,  4,  9,\n",
       "       10, 15, 10,  2,  5, 10,  8,  2,  6,  0,  0, 14,  7, 11, 16, 14, 10,\n",
       "        9,  9, 12,  0, 11, 14, 15,  7,  9, 10,  9,  9,  6, 14, 12, 15,  8,\n",
       "        6,  4,  0,  0,  2, 10,  9,  0,  0,  7,  5,  2,  9,  0,  7,  4, 15,\n",
       "       15,  7,  9,  0,  8,  7,  2, 13, 15,  0,  0,  4,  4, 10,  6, 15, 16,\n",
       "        2, 15,  9, 11, 15, 16,  5, 13, 14, 15,  4, 14,  1,  5,  3,  0,  2,\n",
       "       10, 15,  7,  9,  7,  8, 15,  4,  4,  7,  0, 14, 10,  8,  7, 16, 11,\n",
       "       11, 12,  2,  4, 14, 11,  0, 13,  4,  1,  9, 15,  7,  8,  4,  9,  0,\n",
       "        0,  1, 15,  4, 11,  7,  6, 12,  9, 14, 15,  7,  7,  2,  0,  0,  0,\n",
       "        0,  7,  5,  9,  5,  6,  6, 10, 16, 15,  4,  5,  6,  9,  5,  9, 14,\n",
       "       13, 10,  1, 14, 10, 14,  7, 14, 15,  1,  1,  0, 16, 14, 16,  9, 15,\n",
       "        2, 13, 11, 13, 16, 14, 13,  5,  0,  0,  2,  1, 15, 16, 15, 12, 12,\n",
       "       10, 14,  5, 10,  9, 10, 13,  5, 14,  9, 10,  6, 10, 12,  1,  7,  7,\n",
       "       12, 11,  4,  0, 12,  0,  9, 16, 11,  7, 13, 12,  2, 16, 10, 16, 10,\n",
       "        4,  2, 14,  2,  1,  0,  7,  9, 10,  1, 10, 11, 11,  0, 12, 10,  9,\n",
       "       12,  2,  7,  2,  8, 11,  9,  5,  8, 13,  6, 11, 12, 15,  2,  7,  4,\n",
       "        5, 11, 12,  2, 15, 15,  7, 14,  0,  6,  3, 16,  2,  1,  8,  0, 10,\n",
       "       15,  7, 15, 11,  7, 15,  6,  1,  0,  7, 10,  2,  5, 15,  7,  4, 10,\n",
       "       15,  8, 12,  8, 13,  4,  0, 15,  0,  7,  6, 11,  5, 10,  7,  9,  5,\n",
       "        9,  7, 10,  1, 13, 11, 16, 14,  5, 10,  4,  9,  2,  7,  6, 12,  0,\n",
       "       15,  9,  1, 11, 10, 16,  9, 10, 10,  9,  5, 11, 10,  8,  6,  4, 10,\n",
       "       14,  1,  0,  4,  9,  6,  5,  6, 12,  9, 14, 15,  1, 12, 13, 14,  6,\n",
       "        6, 11, 12,  4,  7,  7, 10,  9, 12,  0, 12, 13,  0,  4, 11,  2,  9,\n",
       "        9,  2, 15,  1,  1,  5,  0, 14, 15,  0, 12, 10,  0,  4,  2, 11,  7,\n",
       "        6,  2, 13,  8, 12,  7,  2, 14, 16,  1,  2,  0, 16,  5])"
      ]
     },
     "execution_count": 21,
     "metadata": {},
     "output_type": "execute_result"
    }
   ],
   "source": [
    "km_pred"
   ]
  },
  {
   "cell_type": "markdown",
   "metadata": {},
   "source": [
    "###### Finding right number of clusters"
   ]
  },
  {
   "cell_type": "code",
   "execution_count": 22,
   "metadata": {},
   "outputs": [
    {
     "name": "stdout",
     "output_type": "stream",
     "text": [
      "[14523.392885624271, 8513.479472066832, 6928.257248563736, 5630.300109443169, 5081.013436807899, 4603.547198781208, 4252.93662407459, 3988.3044687158235, 3752.3042925736545, 3563.7829118889385, 3397.6708302503343, 3246.0709254498447, 3146.0599670259235, 3017.5828063539807, 2946.717905260669, 2855.6046618639634, 2765.975506538179]\n"
     ]
    }
   ],
   "source": [
    "km_error = []\n",
    "\n",
    "for i in range(1,len(df_pca.columns)):\n",
    "    km = KMeans(n_clusters=i)\n",
    "    km.fit(data_pca)\n",
    "    km_error.append(km.inertia_)\n",
    "print(km_error)"
   ]
  },
  {
   "cell_type": "markdown",
   "metadata": {},
   "source": [
    "###### BY ELBOW METHOD"
   ]
  },
  {
   "cell_type": "code",
   "execution_count": 23,
   "metadata": {},
   "outputs": [
    {
     "data": {
      "text/plain": [
       "[<matplotlib.lines.Line2D at 0x139146d4048>]"
      ]
     },
     "execution_count": 23,
     "metadata": {},
     "output_type": "execute_result"
    },
    {
     "data": {
      "image/png": "[encoded data removed]",
      "text/plain": [
       "<Figure size 864x360 with 1 Axes>"
      ]
     },
     "metadata": {
      "needs_background": "light"
     },
     "output_type": "display_data"
    }
   ],
   "source": [
    "plt.figure(figsize = (12,5))\n",
    "plt.xticks(range(1,len(df_pca.columns)))\n",
    "plt.plot(np.arange(1,len(df_pca.columns)),np.array(km_error),'o--')\n"
   ]
  },
  {
   "cell_type": "markdown",
   "metadata": {},
   "source": [
    "The change in error is alomost constant from cluster 4. so, Let the number of clusters be 3"
   ]
  },
  {
   "cell_type": "markdown",
   "metadata": {},
   "source": [
    "###### Predicted the labels "
   ]
  },
  {
   "cell_type": "code",
   "execution_count": 24,
   "metadata": {},
   "outputs": [],
   "source": [
    "from sklearn.cluster import KMeans\n",
    "\n",
    "km = KMeans(n_clusters=3)\n",
    "km.fit(data_pca)\n",
    "km_predict = km.fit_predict(df_pca.iloc[:,:11])"
   ]
  },
  {
   "cell_type": "code",
   "execution_count": 25,
   "metadata": {},
   "outputs": [],
   "source": [
    "data_pca['km_pre'] = km_predict\n"
   ]
  },
  {
   "cell_type": "code",
   "execution_count": 26,
   "metadata": {},
   "outputs": [
    {
     "data": {
      "text/html": [
       "<div>\n",
       "<style scoped>\n",
       "    .dataframe tbody tr th:only-of-type {\n",
       "        vertical-align: middle;\n",
       "    }\n",
       "\n",
       "    .dataframe tbody tr th {\n",
       "        vertical-align: top;\n",
       "    }\n",
       "\n",
       "    .dataframe thead th {\n",
       "        text-align: right;\n",
       "    }\n",
       "</style>\n",
       "<table border=\"1\" class=\"dataframe\">\n",
       "  <thead>\n",
       "    <tr style=\"text-align: right;\">\n",
       "      <th></th>\n",
       "      <th>compactness</th>\n",
       "      <th>circularity</th>\n",
       "      <th>distance_circularity</th>\n",
       "      <th>radius_ratio</th>\n",
       "      <th>pr.axis_aspect_ratio</th>\n",
       "      <th>max.length_aspect_ratio</th>\n",
       "      <th>scatter_ratio</th>\n",
       "      <th>elongatedness</th>\n",
       "      <th>pr.axis_rectangularity</th>\n",
       "      <th>max.length_rectangularity</th>\n",
       "      <th>scaled_variance</th>\n",
       "      <th>km_pre</th>\n",
       "    </tr>\n",
       "  </thead>\n",
       "  <tbody>\n",
       "    <tr>\n",
       "      <th>0</th>\n",
       "      <td>0.352249</td>\n",
       "      <td>-0.141027</td>\n",
       "      <td>0.961832</td>\n",
       "      <td>0.190872</td>\n",
       "      <td>0.069616</td>\n",
       "      <td>-0.740301</td>\n",
       "      <td>-0.882080</td>\n",
       "      <td>-0.388323</td>\n",
       "      <td>-0.908189</td>\n",
       "      <td>0.087236</td>\n",
       "      <td>0.011048</td>\n",
       "      <td>2</td>\n",
       "    </tr>\n",
       "    <tr>\n",
       "      <th>1</th>\n",
       "      <td>-1.578072</td>\n",
       "      <td>-0.422197</td>\n",
       "      <td>-0.365261</td>\n",
       "      <td>0.239334</td>\n",
       "      <td>0.685899</td>\n",
       "      <td>-0.530580</td>\n",
       "      <td>0.345639</td>\n",
       "      <td>0.258324</td>\n",
       "      <td>0.137883</td>\n",
       "      <td>-0.093291</td>\n",
       "      <td>0.497768</td>\n",
       "      <td>2</td>\n",
       "    </tr>\n",
       "    <tr>\n",
       "      <th>2</th>\n",
       "      <td>3.782556</td>\n",
       "      <td>0.253257</td>\n",
       "      <td>0.061756</td>\n",
       "      <td>1.216416</td>\n",
       "      <td>0.717337</td>\n",
       "      <td>0.728388</td>\n",
       "      <td>-0.015941</td>\n",
       "      <td>0.478896</td>\n",
       "      <td>-0.275968</td>\n",
       "      <td>-0.477401</td>\n",
       "      <td>0.258087</td>\n",
       "      <td>1</td>\n",
       "    </tr>\n",
       "    <tr>\n",
       "      <th>3</th>\n",
       "      <td>-1.713214</td>\n",
       "      <td>-2.819496</td>\n",
       "      <td>0.186835</td>\n",
       "      <td>0.379588</td>\n",
       "      <td>-0.357389</td>\n",
       "      <td>-0.514101</td>\n",
       "      <td>0.450872</td>\n",
       "      <td>-0.011059</td>\n",
       "      <td>-0.061825</td>\n",
       "      <td>0.456355</td>\n",
       "      <td>0.374730</td>\n",
       "      <td>2</td>\n",
       "    </tr>\n",
       "    <tr>\n",
       "      <th>4</th>\n",
       "      <td>0.532165</td>\n",
       "      <td>5.153595</td>\n",
       "      <td>11.400516</td>\n",
       "      <td>0.066717</td>\n",
       "      <td>3.242363</td>\n",
       "      <td>-0.360525</td>\n",
       "      <td>2.569695</td>\n",
       "      <td>-0.400351</td>\n",
       "      <td>2.111091</td>\n",
       "      <td>-0.332323</td>\n",
       "      <td>0.201103</td>\n",
       "      <td>0</td>\n",
       "    </tr>\n",
       "  </tbody>\n",
       "</table>\n",
       "</div>"
      ],
      "text/plain": [
       "   compactness  circularity  distance_circularity  radius_ratio  \\\n",
       "0     0.352249    -0.141027              0.961832      0.190872   \n",
       "1    -1.578072    -0.422197             -0.365261      0.239334   \n",
       "2     3.782556     0.253257              0.061756      1.216416   \n",
       "3    -1.713214    -2.819496              0.186835      0.379588   \n",
       "4     0.532165     5.153595             11.400516      0.066717   \n",
       "\n",
       "   pr.axis_aspect_ratio  max.length_aspect_ratio  scatter_ratio  \\\n",
       "0              0.069616                -0.740301      -0.882080   \n",
       "1              0.685899                -0.530580       0.345639   \n",
       "2              0.717337                 0.728388      -0.015941   \n",
       "3             -0.357389                -0.514101       0.450872   \n",
       "4              3.242363                -0.360525       2.569695   \n",
       "\n",
       "   elongatedness  pr.axis_rectangularity  max.length_rectangularity  \\\n",
       "0      -0.388323               -0.908189                   0.087236   \n",
       "1       0.258324                0.137883                  -0.093291   \n",
       "2       0.478896               -0.275968                  -0.477401   \n",
       "3      -0.011059               -0.061825                   0.456355   \n",
       "4      -0.400351                2.111091                  -0.332323   \n",
       "\n",
       "   scaled_variance  km_pre  \n",
       "0         0.011048       2  \n",
       "1         0.497768       2  \n",
       "2         0.258087       1  \n",
       "3         0.374730       2  \n",
       "4         0.201103       0  "
      ]
     },
     "execution_count": 26,
     "metadata": {},
     "output_type": "execute_result"
    }
   ],
   "source": [
    "data_pca.head()"
   ]
  },
  {
   "cell_type": "code",
   "execution_count": 27,
   "metadata": {},
   "outputs": [
    {
     "data": {
      "text/plain": [
       "(813, 12)"
      ]
     },
     "execution_count": 27,
     "metadata": {},
     "output_type": "execute_result"
    }
   ],
   "source": [
    "data_pca.shape"
   ]
  },
  {
   "cell_type": "markdown",
   "metadata": {},
   "source": [
    "##### plotting the scatter plot for predicted "
   ]
  },
  {
   "cell_type": "code",
   "execution_count": 28,
   "metadata": {},
   "outputs": [
    {
     "data": {
      "text/plain": [
       "array([[-2.67173172e+00,  1.68130749e+00, -1.33049927e-01,\n",
       "         4.13987422e-02,  1.17990902e-01, -1.12260712e-01,\n",
       "         8.32391803e-03,  1.78410963e-02, -5.24033270e-02,\n",
       "         2.02181194e-02,  1.28780895e-02],\n",
       "       [ 3.93703213e+00,  1.91892978e-01, -1.19027689e-01,\n",
       "        -3.51060162e-02,  4.16703260e-02,  2.77785679e-02,\n",
       "         5.58611208e-02, -1.83070260e-02, -4.65568034e-02,\n",
       "        -2.43280505e-02, -1.97817127e-02],\n",
       "       [-1.22176595e+00, -1.44858138e+00,  2.00891954e-01,\n",
       "        -2.58189754e-03, -1.25086585e-01,  6.30036526e-02,\n",
       "        -5.27847659e-02,  1.52704041e-03,  7.88548478e-02,\n",
       "         4.70589290e-03,  6.55752019e-03]])"
      ]
     },
     "execution_count": 28,
     "metadata": {},
     "output_type": "execute_result"
    }
   ],
   "source": [
    "km.cluster_centers_"
   ]
  },
  {
   "cell_type": "code",
   "execution_count": 29,
   "metadata": {},
   "outputs": [
    {
     "data": {
      "text/plain": [
       "<matplotlib.collections.PathCollection at 0x1391473b160>"
      ]
     },
     "execution_count": 29,
     "metadata": {},
     "output_type": "execute_result"
    },
    {
     "data": {
      "image/png": "[encoded data removed]",
      "text/plain": [
       "<Figure size 432x288 with 1 Axes>"
      ]
     },
     "metadata": {
      "needs_background": "light"
     },
     "output_type": "display_data"
    }
   ],
   "source": [
    "plt.scatter(p_comp[km_predict == 0, 0],p_comp[km_predict == 0, 1],s = 10,c = 'pink',label = 'bus')\n",
    "plt.scatter(p_comp[km_predict == 1, 0],p_comp[km_predict == 1, 1],s = 10,c = 'violet',label = 'car')\n",
    "plt.scatter(p_comp[km_predict == 2, 0],p_comp[km_predict == 2, 1],s = 10,c = 'yellow',label = 'van')\n",
    "\n",
    "plt.scatter(km.cluster_centers_[:,0],km.cluster_centers_[:,1],s = 10,c = 'black')"
   ]
  },
  {
   "cell_type": "code",
   "execution_count": 30,
   "metadata": {},
   "outputs": [
    {
     "data": {
      "text/plain": [
       "car    413\n",
       "bus    205\n",
       "van    195\n",
       "Name: class, dtype: int64"
      ]
     },
     "execution_count": 30,
     "metadata": {},
     "output_type": "execute_result"
    }
   ],
   "source": [
    "df['class'].value_counts()"
   ]
  },
  {
   "cell_type": "code",
   "execution_count": 31,
   "metadata": {},
   "outputs": [
    {
     "data": {
      "text/plain": [
       "2    313\n",
       "1    260\n",
       "0    240\n",
       "Name: km_pre, dtype: int64"
      ]
     },
     "execution_count": 31,
     "metadata": {},
     "output_type": "execute_result"
    }
   ],
   "source": [
    "data_pca['km_pre'].value_counts()"
   ]
  },
  {
   "cell_type": "code",
   "execution_count": 32,
   "metadata": {},
   "outputs": [
    {
     "data": {
      "text/plain": [
       "(813, 12)"
      ]
     },
     "execution_count": 32,
     "metadata": {},
     "output_type": "execute_result"
    }
   ],
   "source": [
    "data_pca.shape"
   ]
  },
  {
   "cell_type": "markdown",
   "metadata": {},
   "source": [
    "###### Hierarchical clusterering"
   ]
  },
  {
   "cell_type": "code",
   "execution_count": 33,
   "metadata": {},
   "outputs": [],
   "source": [
    "from sklearn.cluster.hierarchical import AgglomerativeClustering\n",
    "from scipy.cluster.hierarchy import dendrogram, linkage"
   ]
  },
  {
   "cell_type": "code",
   "execution_count": 34,
   "metadata": {},
   "outputs": [
    {
     "data": {
      "image/png": "[encoded data removed]",
      "text/plain": [
       "<Figure size 432x288 with 1 Axes>"
      ]
     },
     "metadata": {
      "needs_background": "light"
     },
     "output_type": "display_data"
    }
   ],
   "source": [
    "dendrogram(linkage(p_comp,'ward'))\n",
    "plt.show()"
   ]
  },
  {
   "cell_type": "markdown",
   "metadata": {},
   "source": [
    "Hierarchical clusters shows that 2 or 3 cluster would be optimum\n",
    "\n",
    "Let us take 3 clusters"
   ]
  },
  {
   "cell_type": "code",
   "execution_count": null,
   "metadata": {},
   "outputs": [],
   "source": []
  },
  {
   "cell_type": "code",
   "execution_count": 35,
   "metadata": {},
   "outputs": [],
   "source": [
    "ag = AgglomerativeClustering(n_clusters=3)\n",
    "ag.fit(data_pca.iloc[:,:-1])\n",
    "ag_pred = ag.fit_predict(data_pca.iloc[:,:-1])"
   ]
  },
  {
   "cell_type": "code",
   "execution_count": 36,
   "metadata": {},
   "outputs": [],
   "source": [
    "data_pca['agg_pred'] = ag_pred"
   ]
  },
  {
   "cell_type": "code",
   "execution_count": 37,
   "metadata": {},
   "outputs": [
    {
     "data": {
      "text/plain": [
       "array([2, 2, 1, 0, 0, 0, 0, 0, 0, 0, 2, 2, 0, 0, 2, 0, 1, 2, 2, 0, 2, 0,\n",
       "       2, 2, 1, 0, 2, 2, 0, 0, 0, 0, 2, 0, 1, 2, 0, 2, 2, 0, 1, 2, 2, 2,\n",
       "       2, 0, 2, 0, 1, 0, 1, 0, 0, 2, 0, 2, 0, 2, 2, 2, 0, 2, 1, 2, 0, 1,\n",
       "       0, 2, 2, 0, 2, 2, 2, 1, 2, 2, 0, 1, 2, 2, 0, 2, 1, 0, 1, 2, 2, 1,\n",
       "       2, 2, 0, 2, 0, 0, 0, 0, 0, 0, 2, 2, 0, 2, 2, 2, 2, 2, 0, 0, 1, 0,\n",
       "       2, 2, 0, 0, 2, 0, 2, 2, 0, 0, 0, 0, 0, 2, 1, 0, 2, 0, 2, 2, 0, 0,\n",
       "       2, 0, 1, 0, 0, 0, 0, 0, 0, 0, 0, 2, 1, 0, 2, 0, 2, 1, 0, 2, 1, 1,\n",
       "       0, 1, 2, 2, 1, 1, 0, 1, 2, 0, 0, 0, 2, 1, 2, 0, 2, 0, 0, 0, 0, 1,\n",
       "       0, 0, 2, 1, 0, 2, 1, 2, 2, 2, 2, 0, 1, 1, 0, 2, 0, 2, 1, 0, 2, 0,\n",
       "       1, 2, 2, 1, 2, 0, 1, 2, 2, 2, 0, 1, 0, 1, 2, 2, 2, 2, 1, 0, 2, 0,\n",
       "       1, 2, 0, 0, 2, 1, 2, 2, 0, 0, 1, 2, 1, 2, 0, 2, 1, 0, 0, 0, 1, 2,\n",
       "       0, 0, 0, 0, 2, 0, 0, 2, 2, 0, 0, 1, 2, 2, 2, 1, 0, 0, 2, 2, 1, 2,\n",
       "       2, 0, 2, 2, 0, 2, 0, 1, 0, 0, 2, 0, 0, 1, 0, 0, 0, 2, 2, 0, 1, 0,\n",
       "       0, 2, 2, 1, 2, 2, 2, 0, 2, 1, 1, 2, 0, 0, 2, 0, 2, 0, 0, 0, 1, 2,\n",
       "       1, 1, 2, 1, 0, 2, 2, 2, 2, 1, 1, 1, 0, 0, 0, 0, 2, 0, 2, 0, 0, 0,\n",
       "       1, 2, 0, 1, 0, 0, 0, 2, 1, 2, 2, 2, 0, 0, 0, 0, 2, 1, 1, 2, 2, 1,\n",
       "       2, 1, 2, 1, 2, 2, 0, 2, 0, 1, 2, 2, 0, 2, 0, 2, 2, 0, 0, 1, 0, 1,\n",
       "       0, 0, 0, 2, 2, 2, 0, 0, 2, 2, 0, 2, 1, 0, 0, 2, 2, 0, 0, 2, 0, 0,\n",
       "       1, 0, 1, 0, 1, 0, 2, 2, 1, 0, 2, 2, 0, 0, 0, 2, 0, 0, 1, 2, 0, 1,\n",
       "       1, 0, 0, 0, 0, 0, 0, 2, 2, 2, 1, 0, 0, 0, 0, 2, 0, 2, 2, 1, 0, 2,\n",
       "       1, 1, 1, 2, 1, 1, 2, 0, 2, 1, 1, 0, 2, 2, 2, 1, 0, 2, 1, 1, 0, 2,\n",
       "       1, 1, 0, 2, 2, 1, 1, 1, 2, 2, 0, 1, 0, 0, 2, 1, 2, 2, 1, 0, 2, 2,\n",
       "       0, 1, 2, 0, 0, 2, 0, 1, 0, 0, 1, 0, 2, 0, 1, 0, 2, 2, 0, 1, 0, 0,\n",
       "       1, 0, 0, 0, 0, 2, 2, 2, 0, 0, 1, 2, 2, 0, 2, 1, 0, 1, 2, 2, 1, 1,\n",
       "       0, 1, 2, 0, 0, 1, 2, 2, 0, 1, 0, 0, 2, 1, 1, 1, 0, 0, 2, 2, 2, 1,\n",
       "       1, 0, 0, 1, 2, 2, 1, 2, 2, 2, 0, 2, 0, 2, 0, 0, 0, 0, 0, 1, 0, 0,\n",
       "       1, 0, 0, 0, 2, 1, 2, 2, 0, 2, 0, 0, 2, 2, 1, 1, 2, 0, 1, 0, 1, 2,\n",
       "       2, 0, 0, 2, 1, 2, 0, 2, 2, 0, 2, 0, 1, 0, 2, 0, 0, 0, 2, 0, 2, 1,\n",
       "       0, 1, 2, 0, 0, 0, 2, 2, 2, 0, 0, 0, 0, 2, 0, 0, 2, 0, 1, 0, 2, 0,\n",
       "       0, 0, 0, 0, 1, 2, 0, 2, 0, 2, 0, 2, 1, 0, 2, 2, 1, 2, 1, 0, 2, 0,\n",
       "       2, 0, 2, 2, 0, 2, 0, 1, 0, 0, 0, 1, 1, 0, 0, 2, 0, 1, 0, 0, 1, 0,\n",
       "       1, 0, 0, 1, 1, 0, 1, 0, 0, 0, 2, 0, 0, 2, 0, 1, 1, 2, 1, 2, 2, 0,\n",
       "       1, 1, 0, 1, 0, 2, 0, 0, 2, 2, 2, 0, 0, 0, 2, 0, 0, 0, 0, 0, 2, 2,\n",
       "       2, 0, 1, 2, 1, 1, 2, 0, 0, 0, 0, 2, 0, 0, 2, 2, 0, 0, 1, 1, 2, 0,\n",
       "       0, 0, 1, 2, 2, 1, 2, 1, 2, 2, 0, 1, 0, 2, 2, 0, 1, 1, 0, 2, 2, 0,\n",
       "       0, 0, 2, 2, 1, 2, 2, 1, 2, 0, 2, 2, 2, 2, 1, 0, 0, 2, 1, 0, 1, 1,\n",
       "       2, 0, 1, 2, 2, 0, 0, 1, 0, 2, 1, 2, 0, 2, 0, 0, 0, 2, 1, 0, 2],\n",
       "      dtype=int64)"
      ]
     },
     "execution_count": 37,
     "metadata": {},
     "output_type": "execute_result"
    }
   ],
   "source": [
    "ag_pred"
   ]
  },
  {
   "cell_type": "markdown",
   "metadata": {},
   "source": [
    "##### to find which method is better"
   ]
  },
  {
   "cell_type": "markdown",
   "metadata": {},
   "source": [
    "###### grouping the cluseters into right category "
   ]
  },
  {
   "cell_type": "code",
   "execution_count": 40,
   "metadata": {
    "scrolled": true
   },
   "outputs": [
    {
     "name": "stdout",
     "output_type": "stream",
     "text": [
      "agg_mean gives max acc\n",
      "agg_mean gives max acc\n",
      "agg_mean gives max acc\n",
      "agg_mean gives max acc\n",
      "0.4920049200492005\n"
     ]
    }
   ],
   "source": [
    "acc = 0\n",
    "for i in range(3):\n",
    "    for j in range(3):\n",
    "        for k in range(3):\n",
    "            data_pca['converted_class'] = df['class'].map({'car':i,'van':j,'bus':k})\n",
    "            k = accuracy_score(data_pca['converted_class'],data_pca['km_pre'])\n",
    "            a = accuracy_score(data_pca['converted_class'],data_pca['agg_pred'])\n",
    "            if k > a and k > acc:\n",
    "                acc = k\n",
    "                data_pca['real_class'] = data_pca['converted_class']\n",
    "                print('km_mean gives max acc')\n",
    "            elif a > k and a > acc:\n",
    "                acc = a\n",
    "                data_pca['real_class'] = data_pca['converted_class']\n",
    "                print('agg_mean gives max acc') # which algorithm gives maximum accuracy\n",
    "            data_pca['converted_class'] = df['class'].map({i:'car',j:'van',k:'bus'})\n",
    "print(acc) # maximum accuracy we can get using both algorithms."
   ]
  },
  {
   "cell_type": "code",
   "execution_count": 41,
   "metadata": {},
   "outputs": [
    {
     "data": {
      "text/plain": [
       "0      2\n",
       "1      2\n",
       "2      0\n",
       "3      2\n",
       "4      2\n",
       "5      2\n",
       "6      2\n",
       "7      2\n",
       "8      2\n",
       "9      0\n",
       "10     2\n",
       "11     2\n",
       "12     2\n",
       "13     0\n",
       "14     2\n",
       "15     2\n",
       "16     0\n",
       "17     2\n",
       "18     2\n",
       "19     2\n",
       "20     2\n",
       "21     0\n",
       "22     2\n",
       "23     0\n",
       "24     0\n",
       "25     2\n",
       "26     0\n",
       "27     2\n",
       "28     0\n",
       "29     0\n",
       "      ..\n",
       "783    2\n",
       "784    0\n",
       "785    0\n",
       "786    0\n",
       "787    0\n",
       "788    0\n",
       "789    2\n",
       "790    0\n",
       "791    0\n",
       "792    0\n",
       "793    0\n",
       "794    0\n",
       "795    2\n",
       "796    2\n",
       "797    2\n",
       "798    2\n",
       "799    0\n",
       "800    0\n",
       "801    0\n",
       "802    2\n",
       "803    2\n",
       "804    0\n",
       "805    2\n",
       "806    2\n",
       "807    0\n",
       "808    0\n",
       "809    2\n",
       "810    0\n",
       "811    0\n",
       "812    2\n",
       "Name: real_class, Length: 813, dtype: int64"
      ]
     },
     "execution_count": 41,
     "metadata": {},
     "output_type": "execute_result"
    }
   ],
   "source": [
    "data_pca['real_class'] # mapped class values of best accuracy score"
   ]
  },
  {
   "cell_type": "markdown",
   "metadata": {},
   "source": [
    "Let us compare the metrics of predictions"
   ]
  },
  {
   "cell_type": "code",
   "execution_count": 42,
   "metadata": {},
   "outputs": [
    {
     "data": {
      "text/html": [
       "<div>\n",
       "<style scoped>\n",
       "    .dataframe tbody tr th:only-of-type {\n",
       "        vertical-align: middle;\n",
       "    }\n",
       "\n",
       "    .dataframe tbody tr th {\n",
       "        vertical-align: top;\n",
       "    }\n",
       "\n",
       "    .dataframe thead th {\n",
       "        text-align: right;\n",
       "    }\n",
       "</style>\n",
       "<table border=\"1\" class=\"dataframe\">\n",
       "  <thead>\n",
       "    <tr style=\"text-align: right;\">\n",
       "      <th></th>\n",
       "      <th>compactness</th>\n",
       "      <th>circularity</th>\n",
       "      <th>distance_circularity</th>\n",
       "      <th>radius_ratio</th>\n",
       "      <th>pr.axis_aspect_ratio</th>\n",
       "      <th>max.length_aspect_ratio</th>\n",
       "      <th>scatter_ratio</th>\n",
       "      <th>elongatedness</th>\n",
       "      <th>pr.axis_rectangularity</th>\n",
       "      <th>max.length_rectangularity</th>\n",
       "      <th>scaled_variance</th>\n",
       "      <th>scaled_variance.1</th>\n",
       "      <th>scaled_radius_of_gyration</th>\n",
       "      <th>scaled_radius_of_gyration.1</th>\n",
       "      <th>skewness_about</th>\n",
       "      <th>skewness_about.1</th>\n",
       "      <th>skewness_about.2</th>\n",
       "      <th>hollows_ratio</th>\n",
       "      <th>class</th>\n",
       "    </tr>\n",
       "  </thead>\n",
       "  <tbody>\n",
       "    <tr>\n",
       "      <th>0</th>\n",
       "      <td>95</td>\n",
       "      <td>48.0</td>\n",
       "      <td>83.0</td>\n",
       "      <td>178.0</td>\n",
       "      <td>72.0</td>\n",
       "      <td>10</td>\n",
       "      <td>162.0</td>\n",
       "      <td>42.0</td>\n",
       "      <td>20.0</td>\n",
       "      <td>159</td>\n",
       "      <td>176.0</td>\n",
       "      <td>379.0</td>\n",
       "      <td>184.0</td>\n",
       "      <td>70.0</td>\n",
       "      <td>6.0</td>\n",
       "      <td>16.0</td>\n",
       "      <td>187.0</td>\n",
       "      <td>197</td>\n",
       "      <td>van</td>\n",
       "    </tr>\n",
       "    <tr>\n",
       "      <th>1</th>\n",
       "      <td>91</td>\n",
       "      <td>41.0</td>\n",
       "      <td>84.0</td>\n",
       "      <td>141.0</td>\n",
       "      <td>57.0</td>\n",
       "      <td>9</td>\n",
       "      <td>149.0</td>\n",
       "      <td>45.0</td>\n",
       "      <td>19.0</td>\n",
       "      <td>143</td>\n",
       "      <td>170.0</td>\n",
       "      <td>330.0</td>\n",
       "      <td>158.0</td>\n",
       "      <td>72.0</td>\n",
       "      <td>9.0</td>\n",
       "      <td>14.0</td>\n",
       "      <td>189.0</td>\n",
       "      <td>199</td>\n",
       "      <td>van</td>\n",
       "    </tr>\n",
       "    <tr>\n",
       "      <th>2</th>\n",
       "      <td>104</td>\n",
       "      <td>50.0</td>\n",
       "      <td>106.0</td>\n",
       "      <td>209.0</td>\n",
       "      <td>66.0</td>\n",
       "      <td>10</td>\n",
       "      <td>207.0</td>\n",
       "      <td>32.0</td>\n",
       "      <td>23.0</td>\n",
       "      <td>158</td>\n",
       "      <td>223.0</td>\n",
       "      <td>635.0</td>\n",
       "      <td>220.0</td>\n",
       "      <td>73.0</td>\n",
       "      <td>14.0</td>\n",
       "      <td>9.0</td>\n",
       "      <td>188.0</td>\n",
       "      <td>196</td>\n",
       "      <td>car</td>\n",
       "    </tr>\n",
       "  </tbody>\n",
       "</table>\n",
       "</div>"
      ],
      "text/plain": [
       "   compactness  circularity  distance_circularity  radius_ratio  \\\n",
       "0           95         48.0                  83.0         178.0   \n",
       "1           91         41.0                  84.0         141.0   \n",
       "2          104         50.0                 106.0         209.0   \n",
       "\n",
       "   pr.axis_aspect_ratio  max.length_aspect_ratio  scatter_ratio  \\\n",
       "0                  72.0                       10          162.0   \n",
       "1                  57.0                        9          149.0   \n",
       "2                  66.0                       10          207.0   \n",
       "\n",
       "   elongatedness  pr.axis_rectangularity  max.length_rectangularity  \\\n",
       "0           42.0                    20.0                        159   \n",
       "1           45.0                    19.0                        143   \n",
       "2           32.0                    23.0                        158   \n",
       "\n",
       "   scaled_variance  scaled_variance.1  scaled_radius_of_gyration  \\\n",
       "0            176.0              379.0                      184.0   \n",
       "1            170.0              330.0                      158.0   \n",
       "2            223.0              635.0                      220.0   \n",
       "\n",
       "   scaled_radius_of_gyration.1  skewness_about  skewness_about.1  \\\n",
       "0                         70.0             6.0              16.0   \n",
       "1                         72.0             9.0              14.0   \n",
       "2                         73.0            14.0               9.0   \n",
       "\n",
       "   skewness_about.2  hollows_ratio class  \n",
       "0             187.0            197   van  \n",
       "1             189.0            199   van  \n",
       "2             188.0            196   car  "
      ]
     },
     "execution_count": 42,
     "metadata": {},
     "output_type": "execute_result"
    }
   ],
   "source": [
    "df.head(3)"
   ]
  },
  {
   "cell_type": "code",
   "execution_count": 43,
   "metadata": {},
   "outputs": [
    {
     "data": {
      "text/html": [
       "<div>\n",
       "<style scoped>\n",
       "    .dataframe tbody tr th:only-of-type {\n",
       "        vertical-align: middle;\n",
       "    }\n",
       "\n",
       "    .dataframe tbody tr th {\n",
       "        vertical-align: top;\n",
       "    }\n",
       "\n",
       "    .dataframe thead th {\n",
       "        text-align: right;\n",
       "    }\n",
       "</style>\n",
       "<table border=\"1\" class=\"dataframe\">\n",
       "  <thead>\n",
       "    <tr style=\"text-align: right;\">\n",
       "      <th></th>\n",
       "      <th>compactness</th>\n",
       "      <th>circularity</th>\n",
       "      <th>distance_circularity</th>\n",
       "      <th>radius_ratio</th>\n",
       "      <th>pr.axis_aspect_ratio</th>\n",
       "      <th>max.length_aspect_ratio</th>\n",
       "      <th>scatter_ratio</th>\n",
       "      <th>elongatedness</th>\n",
       "      <th>pr.axis_rectangularity</th>\n",
       "      <th>max.length_rectangularity</th>\n",
       "      <th>scaled_variance</th>\n",
       "      <th>km_pre</th>\n",
       "      <th>agg_pred</th>\n",
       "      <th>converted_class</th>\n",
       "      <th>real_class</th>\n",
       "    </tr>\n",
       "  </thead>\n",
       "  <tbody>\n",
       "    <tr>\n",
       "      <th>0</th>\n",
       "      <td>0.352249</td>\n",
       "      <td>-0.141027</td>\n",
       "      <td>0.961832</td>\n",
       "      <td>0.190872</td>\n",
       "      <td>0.069616</td>\n",
       "      <td>-0.740301</td>\n",
       "      <td>-0.882080</td>\n",
       "      <td>-0.388323</td>\n",
       "      <td>-0.908189</td>\n",
       "      <td>0.087236</td>\n",
       "      <td>0.011048</td>\n",
       "      <td>2</td>\n",
       "      <td>2</td>\n",
       "      <td>NaN</td>\n",
       "      <td>2</td>\n",
       "    </tr>\n",
       "    <tr>\n",
       "      <th>1</th>\n",
       "      <td>-1.578072</td>\n",
       "      <td>-0.422197</td>\n",
       "      <td>-0.365261</td>\n",
       "      <td>0.239334</td>\n",
       "      <td>0.685899</td>\n",
       "      <td>-0.530580</td>\n",
       "      <td>0.345639</td>\n",
       "      <td>0.258324</td>\n",
       "      <td>0.137883</td>\n",
       "      <td>-0.093291</td>\n",
       "      <td>0.497768</td>\n",
       "      <td>2</td>\n",
       "      <td>2</td>\n",
       "      <td>NaN</td>\n",
       "      <td>2</td>\n",
       "    </tr>\n",
       "    <tr>\n",
       "      <th>2</th>\n",
       "      <td>3.782556</td>\n",
       "      <td>0.253257</td>\n",
       "      <td>0.061756</td>\n",
       "      <td>1.216416</td>\n",
       "      <td>0.717337</td>\n",
       "      <td>0.728388</td>\n",
       "      <td>-0.015941</td>\n",
       "      <td>0.478896</td>\n",
       "      <td>-0.275968</td>\n",
       "      <td>-0.477401</td>\n",
       "      <td>0.258087</td>\n",
       "      <td>1</td>\n",
       "      <td>1</td>\n",
       "      <td>NaN</td>\n",
       "      <td>0</td>\n",
       "    </tr>\n",
       "  </tbody>\n",
       "</table>\n",
       "</div>"
      ],
      "text/plain": [
       "   compactness  circularity  distance_circularity  radius_ratio  \\\n",
       "0     0.352249    -0.141027              0.961832      0.190872   \n",
       "1    -1.578072    -0.422197             -0.365261      0.239334   \n",
       "2     3.782556     0.253257              0.061756      1.216416   \n",
       "\n",
       "   pr.axis_aspect_ratio  max.length_aspect_ratio  scatter_ratio  \\\n",
       "0              0.069616                -0.740301      -0.882080   \n",
       "1              0.685899                -0.530580       0.345639   \n",
       "2              0.717337                 0.728388      -0.015941   \n",
       "\n",
       "   elongatedness  pr.axis_rectangularity  max.length_rectangularity  \\\n",
       "0      -0.388323               -0.908189                   0.087236   \n",
       "1       0.258324                0.137883                  -0.093291   \n",
       "2       0.478896               -0.275968                  -0.477401   \n",
       "\n",
       "   scaled_variance  km_pre  agg_pred converted_class  real_class  \n",
       "0         0.011048       2         2             NaN           2  \n",
       "1         0.497768       2         2             NaN           2  \n",
       "2         0.258087       1         1             NaN           0  "
      ]
     },
     "execution_count": 43,
     "metadata": {},
     "output_type": "execute_result"
    }
   ],
   "source": [
    "data_pca.head(3)"
   ]
  },
  {
   "cell_type": "code",
   "execution_count": 44,
   "metadata": {},
   "outputs": [],
   "source": [
    "from sklearn.metrics import confusion_matrix, accuracy_score"
   ]
  },
  {
   "cell_type": "code",
   "execution_count": 45,
   "metadata": {},
   "outputs": [],
   "source": [
    "def metrics(y_true, y_pred):\n",
    "    print(confusion_matrix(y_true,y_pred))\n",
    "    print(accuracy_score(y_true,y_pred))"
   ]
  },
  {
   "cell_type": "code",
   "execution_count": 46,
   "metadata": {},
   "outputs": [
    {
     "data": {
      "text/plain": [
       "Index(['compactness', 'circularity', 'distance_circularity', 'radius_ratio',\n",
       "       'pr.axis_aspect_ratio', 'max.length_aspect_ratio', 'scatter_ratio',\n",
       "       'elongatedness', 'pr.axis_rectangularity', 'max.length_rectangularity',\n",
       "       'scaled_variance', 'km_pre', 'agg_pred', 'converted_class',\n",
       "       'real_class'],\n",
       "      dtype='object')"
      ]
     },
     "execution_count": 46,
     "metadata": {},
     "output_type": "execute_result"
    }
   ],
   "source": [
    "data_pca.columns"
   ]
  },
  {
   "cell_type": "code",
   "execution_count": 47,
   "metadata": {},
   "outputs": [
    {
     "name": "stdout",
     "output_type": "stream",
     "text": [
      "[[ 71 212 130]\n",
      " [  0   0   0]\n",
      " [169  48 183]]\n",
      "0.3124231242312423\n"
     ]
    }
   ],
   "source": [
    "metrics(data_pca['real_class'],data_pca['km_pre'])"
   ]
  },
  {
   "cell_type": "code",
   "execution_count": 48,
   "metadata": {},
   "outputs": [
    {
     "name": "stdout",
     "output_type": "stream",
     "text": [
      "[[187 141  85]\n",
      " [  0   0   0]\n",
      " [156  31 213]]\n",
      "0.4920049200492005\n"
     ]
    }
   ],
   "source": [
    "metrics(data_pca['real_class'],data_pca['agg_pred'])"
   ]
  },
  {
   "cell_type": "code",
   "execution_count": 49,
   "metadata": {},
   "outputs": [],
   "source": [
    "# We can see AgglomerativeClustering gives best model."
   ]
  },
  {
   "cell_type": "markdown",
   "metadata": {},
   "source": [
    "##### Splitting the independent  and target for building model"
   ]
  },
  {
   "cell_type": "code",
   "execution_count": 50,
   "metadata": {},
   "outputs": [
    {
     "data": {
      "text/plain": [
       "Index(['compactness', 'circularity', 'distance_circularity', 'radius_ratio',\n",
       "       'pr.axis_aspect_ratio', 'max.length_aspect_ratio', 'scatter_ratio',\n",
       "       'elongatedness', 'pr.axis_rectangularity', 'max.length_rectangularity',\n",
       "       'scaled_variance', 'km_pre', 'agg_pred', 'converted_class',\n",
       "       'real_class'],\n",
       "      dtype='object')"
      ]
     },
     "execution_count": 50,
     "metadata": {},
     "output_type": "execute_result"
    }
   ],
   "source": [
    "data_pca.columns"
   ]
  },
  {
   "cell_type": "code",
   "execution_count": 51,
   "metadata": {},
   "outputs": [],
   "source": [
    "data_pca.drop(['km_pre','converted_class','real_class'],1,inplace = True)"
   ]
  },
  {
   "cell_type": "code",
   "execution_count": 52,
   "metadata": {},
   "outputs": [
    {
     "data": {
      "text/plain": [
       "Index(['compactness', 'circularity', 'distance_circularity', 'radius_ratio',\n",
       "       'pr.axis_aspect_ratio', 'max.length_aspect_ratio', 'scatter_ratio',\n",
       "       'elongatedness', 'pr.axis_rectangularity', 'max.length_rectangularity',\n",
       "       'scaled_variance', 'agg_pred'],\n",
       "      dtype='object')"
      ]
     },
     "execution_count": 52,
     "metadata": {},
     "output_type": "execute_result"
    }
   ],
   "source": [
    "data_pca.columns"
   ]
  },
  {
   "cell_type": "code",
   "execution_count": 53,
   "metadata": {},
   "outputs": [],
   "source": [
    "X = data_pca.drop('agg_pred',1)\n",
    "y = data_pca['agg_pred']"
   ]
  },
  {
   "cell_type": "code",
   "execution_count": 54,
   "metadata": {},
   "outputs": [],
   "source": [
    "# splitting the data\n",
    "from sklearn.model_selection import train_test_split\n",
    "\n",
    "X_train,X_test,y_train,y_test = train_test_split(X,y,test_size = 0.3,random_state = 2)"
   ]
  },
  {
   "cell_type": "code",
   "execution_count": 55,
   "metadata": {},
   "outputs": [
    {
     "name": "stdout",
     "output_type": "stream",
     "text": [
      "(569, 11)\n",
      "(244, 11)\n",
      "(569,)\n",
      "(244,)\n"
     ]
    }
   ],
   "source": [
    "print(X_train.shape)\n",
    "print(X_test.shape)\n",
    "print(y_train.shape)\n",
    "print(y_test.shape)"
   ]
  },
  {
   "cell_type": "code",
   "execution_count": 56,
   "metadata": {},
   "outputs": [
    {
     "data": {
      "text/plain": [
       "SVC(C=1.0, cache_size=200, class_weight=None, coef0=0.0,\n",
       "    decision_function_shape='ovr', degree=3, gamma='auto_deprecated',\n",
       "    kernel='rbf', max_iter=-1, probability=False, random_state=None,\n",
       "    shrinking=True, tol=0.001, verbose=False)"
      ]
     },
     "execution_count": 56,
     "metadata": {},
     "output_type": "execute_result"
    }
   ],
   "source": [
    "# With pca\n",
    "\n",
    "from sklearn.svm import SVC\n",
    "sv_pca = SVC()\n",
    "sv_pca.fit(X_train,y_train)"
   ]
  },
  {
   "cell_type": "code",
   "execution_count": 57,
   "metadata": {},
   "outputs": [],
   "source": [
    "sv_pred_pca = sv_pca.predict(X_test)"
   ]
  },
  {
   "cell_type": "code",
   "execution_count": 58,
   "metadata": {},
   "outputs": [
    {
     "name": "stdout",
     "output_type": "stream",
     "text": [
      "[[93  4  1]\n",
      " [ 0 61  0]\n",
      " [ 4  0 81]]\n",
      "0.9631147540983607\n"
     ]
    }
   ],
   "source": [
    "metrics(y_test,sv_pred_pca)"
   ]
  },
  {
   "cell_type": "code",
   "execution_count": 59,
   "metadata": {},
   "outputs": [],
   "source": [
    "# without pca\n",
    "\n",
    "df['ag_predict'] = data_pca['agg_pred']\n"
   ]
  },
  {
   "cell_type": "code",
   "execution_count": 60,
   "metadata": {},
   "outputs": [
    {
     "data": {
      "text/plain": [
       "Index(['compactness', 'circularity', 'distance_circularity', 'radius_ratio',\n",
       "       'pr.axis_aspect_ratio', 'max.length_aspect_ratio', 'scatter_ratio',\n",
       "       'elongatedness', 'pr.axis_rectangularity', 'max.length_rectangularity',\n",
       "       'scaled_variance', 'scaled_variance.1', 'scaled_radius_of_gyration',\n",
       "       'scaled_radius_of_gyration.1', 'skewness_about', 'skewness_about.1',\n",
       "       'skewness_about.2', 'hollows_ratio', 'class', 'ag_predict'],\n",
       "      dtype='object')"
      ]
     },
     "execution_count": 60,
     "metadata": {},
     "output_type": "execute_result"
    }
   ],
   "source": [
    "df.columns"
   ]
  },
  {
   "cell_type": "code",
   "execution_count": 61,
   "metadata": {},
   "outputs": [],
   "source": [
    "df.drop(['class'],1,inplace = True)"
   ]
  },
  {
   "cell_type": "code",
   "execution_count": 62,
   "metadata": {},
   "outputs": [],
   "source": [
    "ind = df.drop('ag_predict',1)\n",
    "dep = df.ag_predict"
   ]
  },
  {
   "cell_type": "code",
   "execution_count": 63,
   "metadata": {},
   "outputs": [],
   "source": [
    "X_train_np,X_test_np,y_train_np,y_test_np = train_test_split(ind,dep,test_size =0.3, random_state = 2)"
   ]
  },
  {
   "cell_type": "code",
   "execution_count": 65,
   "metadata": {},
   "outputs": [],
   "source": [
    "sv = SVC()\n",
    "sv.fit(X_train_np,y_train_np)\n",
    "sv_pred = sv.predict(X_test_np)"
   ]
  },
  {
   "cell_type": "code",
   "execution_count": 66,
   "metadata": {},
   "outputs": [
    {
     "name": "stdout",
     "output_type": "stream",
     "text": [
      "[[98  0  0]\n",
      " [61  0  0]\n",
      " [83  0  2]]\n",
      "0.4098360655737705\n"
     ]
    }
   ],
   "source": [
    "metrics(y_test,sv_pred)"
   ]
  },
  {
   "cell_type": "markdown",
   "metadata": {},
   "source": [
    "We can clearly see that the values predicted pca shows more accuracy than original dataset(without pca)"
   ]
  },
  {
   "cell_type": "markdown",
   "metadata": {},
   "source": [
    "##### Hyperparameter tuning"
   ]
  },
  {
   "cell_type": "code",
   "execution_count": 67,
   "metadata": {},
   "outputs": [
    {
     "data": {
      "text/plain": [
       "GridSearchCV(cv=5, error_score='raise-deprecating',\n",
       "             estimator=SVC(C=1.0, cache_size=200, class_weight=None, coef0=0.0,\n",
       "                           decision_function_shape='ovr', degree=3,\n",
       "                           gamma='auto_deprecated', kernel='rbf', max_iter=-1,\n",
       "                           probability=False, random_state=None, shrinking=True,\n",
       "                           tol=0.001, verbose=False),\n",
       "             iid='warn', n_jobs=None,\n",
       "             param_grid={'C': [0.01, 0.05, 0.5, 1],\n",
       "                         'kernel': ['linear', 'rbf']},\n",
       "             pre_dispatch='2*n_jobs', refit=True, return_train_score=False,\n",
       "             scoring=None, verbose=0)"
      ]
     },
     "execution_count": 67,
     "metadata": {},
     "output_type": "execute_result"
    }
   ],
   "source": [
    "from sklearn.model_selection import GridSearchCV\n",
    "\n",
    "params = {'C' : [0.01, 0.05, 0.5, 1],\n",
    "         'kernel' : ['linear', 'rbf']}\n",
    "\n",
    "svm = SVC()\n",
    "\n",
    "\n",
    "sv_gs = GridSearchCV(svm,params, cv = 5)\n",
    "sv_gs.fit(X_train,y_train)"
   ]
  },
  {
   "cell_type": "code",
   "execution_count": 68,
   "metadata": {},
   "outputs": [
    {
     "data": {
      "text/plain": [
       "SVC(C=1, cache_size=200, class_weight=None, coef0=0.0,\n",
       "    decision_function_shape='ovr', degree=3, gamma='auto_deprecated',\n",
       "    kernel='rbf', max_iter=-1, probability=False, random_state=None,\n",
       "    shrinking=True, tol=0.001, verbose=False)"
      ]
     },
     "execution_count": 68,
     "metadata": {},
     "output_type": "execute_result"
    }
   ],
   "source": [
    "sv_gs.best_estimator_"
   ]
  },
  {
   "cell_type": "code",
   "execution_count": 69,
   "metadata": {
    "scrolled": true
   },
   "outputs": [
    {
     "data": {
      "text/plain": [
       "SVC(C=1, cache_size=200, class_weight=None, coef0=0.0,\n",
       "    decision_function_shape='ovr', degree=3, gamma='auto_deprecated',\n",
       "    kernel='rbf', max_iter=-1, probability=False, random_state=None,\n",
       "    shrinking=True, tol=0.001, verbose=False)"
      ]
     },
     "execution_count": 69,
     "metadata": {},
     "output_type": "execute_result"
    }
   ],
   "source": [
    "# Building a model with best estimator\n",
    "\n",
    "svm_fin = SVC(C=1, cache_size=200, class_weight=None, coef0=0.0,\n",
    "    decision_function_shape='ovr', degree=3, gamma='auto_deprecated',\n",
    "    kernel='rbf', max_iter=-1, probability=False, random_state=None,\n",
    "    shrinking=True, tol=0.001, verbose=False)\n",
    "\n",
    "svm_fin.fit(X_train,y_train)"
   ]
  },
  {
   "cell_type": "code",
   "execution_count": 70,
   "metadata": {},
   "outputs": [
    {
     "name": "stdout",
     "output_type": "stream",
     "text": [
      "0.984182776801406\n"
     ]
    }
   ],
   "source": [
    "print(svm_fin.score(X_train,y_train))\n"
   ]
  },
  {
   "cell_type": "code",
   "execution_count": 71,
   "metadata": {},
   "outputs": [],
   "source": [
    "svm_fin_predict = svm_fin.predict(X_test)"
   ]
  },
  {
   "cell_type": "code",
   "execution_count": 72,
   "metadata": {},
   "outputs": [
    {
     "name": "stdout",
     "output_type": "stream",
     "text": [
      "[[93  4  1]\n",
      " [ 0 61  0]\n",
      " [ 4  0 81]]\n",
      "0.9631147540983607\n"
     ]
    }
   ],
   "source": [
    "metrics(y_test,svm_fin_predict)"
   ]
  },
  {
   "cell_type": "code",
   "execution_count": 74,
   "metadata": {},
   "outputs": [
    {
     "name": "stdout",
     "output_type": "stream",
     "text": [
      "              precision    recall  f1-score   support\n",
      "\n",
      "           0       0.96      0.95      0.95        98\n",
      "           1       0.94      1.00      0.97        61\n",
      "           2       0.99      0.95      0.97        85\n",
      "\n",
      "    accuracy                           0.96       244\n",
      "   macro avg       0.96      0.97      0.96       244\n",
      "weighted avg       0.96      0.96      0.96       244\n",
      "\n"
     ]
    }
   ],
   "source": [
    "print(classification_report(y_test,svm_fin_predict))"
   ]
  },
  {
   "cell_type": "markdown",
   "metadata": {},
   "source": [
    "The final predicted accuracy with svm is found to be 96.31%"
   ]
  }
 ],
 "metadata": {
  "kernelspec": {
   "display_name": "Python 3",
   "language": "python",
   "name": "python3"
  },
  "language_info": {
   "codemirror_mode": {
    "name": "ipython",
    "version": 3
   },
   "file_extension": ".py",
   "mimetype": "text/x-python",
   "name": "python",
   "nbconvert_exporter": "python",
   "pygments_lexer": "ipython3",
   "version": "3.7.3"
  }
 },
 "nbformat": 4,
 "nbformat_minor": 2
}
